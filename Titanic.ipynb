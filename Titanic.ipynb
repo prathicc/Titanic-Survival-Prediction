{
  "nbformat": 4,
  "nbformat_minor": 0,
  "metadata": {
    "colab": {
      "provenance": []
    },
    "kernelspec": {
      "name": "python3",
      "display_name": "Python 3"
    },
    "language_info": {
      "name": "python"
    }
  },
  "cells": [
    {
      "cell_type": "markdown",
      "source": [
        "# Data Preprocessing"
      ],
      "metadata": {
        "id": "QJJwazmDcjXh"
      }
    },
    {
      "cell_type": "markdown",
      "source": [
        "## Importing Libraries"
      ],
      "metadata": {
        "id": "5b5khqLScqhQ"
      }
    },
    {
      "cell_type": "code",
      "execution_count": null,
      "metadata": {
        "id": "KteIg9PUSEJt"
      },
      "outputs": [],
      "source": [
        "import numpy as np\n",
        "import pandas as pd\n",
        "import matplotlib.pyplot as plt"
      ]
    },
    {
      "cell_type": "code",
      "source": [
        "import sys\n",
        "import numpy as np\n",
        "np.set_printoptions(threshold=sys.maxsize)"
      ],
      "metadata": {
        "id": "Jskl_YHhv6GC"
      },
      "execution_count": null,
      "outputs": []
    },
    {
      "cell_type": "markdown",
      "source": [
        "## Importing Dataset"
      ],
      "metadata": {
        "id": "ib-ZcRFocupg"
      }
    },
    {
      "cell_type": "code",
      "source": [
        "train = pd.read_csv('train.csv')\n",
        "test = pd.read_csv('test.csv')"
      ],
      "metadata": {
        "id": "iCyGp7WeTEMw"
      },
      "execution_count": null,
      "outputs": []
    },
    {
      "cell_type": "code",
      "source": [
        "train.head(3)"
      ],
      "metadata": {
        "colab": {
          "base_uri": "https://localhost:8080/",
          "height": 222
        },
        "id": "_vnm2UdcTQd-",
        "outputId": "92c23a01-b5ee-455a-dcf5-e66d26859041"
      },
      "execution_count": null,
      "outputs": [
        {
          "output_type": "execute_result",
          "data": {
            "text/plain": [
              "   PassengerId  Survived  Pclass  \\\n",
              "0            1         0       3   \n",
              "1            2         1       1   \n",
              "2            3         1       3   \n",
              "\n",
              "                                                Name     Sex   Age  SibSp  \\\n",
              "0                            Braund, Mr. Owen Harris    male  22.0      1   \n",
              "1  Cumings, Mrs. John Bradley (Florence Briggs Th...  female  38.0      1   \n",
              "2                             Heikkinen, Miss. Laina  female  26.0      0   \n",
              "\n",
              "   Parch            Ticket     Fare Cabin Embarked  \n",
              "0      0         A/5 21171   7.2500   NaN        S  \n",
              "1      0          PC 17599  71.2833   C85        C  \n",
              "2      0  STON/O2. 3101282   7.9250   NaN        S  "
            ],
            "text/html": [
              "\n",
              "  <div id=\"df-6bc8ac3a-f823-47d8-95a5-6826cc0b902f\">\n",
              "    <div class=\"colab-df-container\">\n",
              "      <div>\n",
              "<style scoped>\n",
              "    .dataframe tbody tr th:only-of-type {\n",
              "        vertical-align: middle;\n",
              "    }\n",
              "\n",
              "    .dataframe tbody tr th {\n",
              "        vertical-align: top;\n",
              "    }\n",
              "\n",
              "    .dataframe thead th {\n",
              "        text-align: right;\n",
              "    }\n",
              "</style>\n",
              "<table border=\"1\" class=\"dataframe\">\n",
              "  <thead>\n",
              "    <tr style=\"text-align: right;\">\n",
              "      <th></th>\n",
              "      <th>PassengerId</th>\n",
              "      <th>Survived</th>\n",
              "      <th>Pclass</th>\n",
              "      <th>Name</th>\n",
              "      <th>Sex</th>\n",
              "      <th>Age</th>\n",
              "      <th>SibSp</th>\n",
              "      <th>Parch</th>\n",
              "      <th>Ticket</th>\n",
              "      <th>Fare</th>\n",
              "      <th>Cabin</th>\n",
              "      <th>Embarked</th>\n",
              "    </tr>\n",
              "  </thead>\n",
              "  <tbody>\n",
              "    <tr>\n",
              "      <th>0</th>\n",
              "      <td>1</td>\n",
              "      <td>0</td>\n",
              "      <td>3</td>\n",
              "      <td>Braund, Mr. Owen Harris</td>\n",
              "      <td>male</td>\n",
              "      <td>22.0</td>\n",
              "      <td>1</td>\n",
              "      <td>0</td>\n",
              "      <td>A/5 21171</td>\n",
              "      <td>7.2500</td>\n",
              "      <td>NaN</td>\n",
              "      <td>S</td>\n",
              "    </tr>\n",
              "    <tr>\n",
              "      <th>1</th>\n",
              "      <td>2</td>\n",
              "      <td>1</td>\n",
              "      <td>1</td>\n",
              "      <td>Cumings, Mrs. John Bradley (Florence Briggs Th...</td>\n",
              "      <td>female</td>\n",
              "      <td>38.0</td>\n",
              "      <td>1</td>\n",
              "      <td>0</td>\n",
              "      <td>PC 17599</td>\n",
              "      <td>71.2833</td>\n",
              "      <td>C85</td>\n",
              "      <td>C</td>\n",
              "    </tr>\n",
              "    <tr>\n",
              "      <th>2</th>\n",
              "      <td>3</td>\n",
              "      <td>1</td>\n",
              "      <td>3</td>\n",
              "      <td>Heikkinen, Miss. Laina</td>\n",
              "      <td>female</td>\n",
              "      <td>26.0</td>\n",
              "      <td>0</td>\n",
              "      <td>0</td>\n",
              "      <td>STON/O2. 3101282</td>\n",
              "      <td>7.9250</td>\n",
              "      <td>NaN</td>\n",
              "      <td>S</td>\n",
              "    </tr>\n",
              "  </tbody>\n",
              "</table>\n",
              "</div>\n",
              "      <button class=\"colab-df-convert\" onclick=\"convertToInteractive('df-6bc8ac3a-f823-47d8-95a5-6826cc0b902f')\"\n",
              "              title=\"Convert this dataframe to an interactive table.\"\n",
              "              style=\"display:none;\">\n",
              "        \n",
              "  <svg xmlns=\"http://www.w3.org/2000/svg\" height=\"24px\"viewBox=\"0 0 24 24\"\n",
              "       width=\"24px\">\n",
              "    <path d=\"M0 0h24v24H0V0z\" fill=\"none\"/>\n",
              "    <path d=\"M18.56 5.44l.94 2.06.94-2.06 2.06-.94-2.06-.94-.94-2.06-.94 2.06-2.06.94zm-11 1L8.5 8.5l.94-2.06 2.06-.94-2.06-.94L8.5 2.5l-.94 2.06-2.06.94zm10 10l.94 2.06.94-2.06 2.06-.94-2.06-.94-.94-2.06-.94 2.06-2.06.94z\"/><path d=\"M17.41 7.96l-1.37-1.37c-.4-.4-.92-.59-1.43-.59-.52 0-1.04.2-1.43.59L10.3 9.45l-7.72 7.72c-.78.78-.78 2.05 0 2.83L4 21.41c.39.39.9.59 1.41.59.51 0 1.02-.2 1.41-.59l7.78-7.78 2.81-2.81c.8-.78.8-2.07 0-2.86zM5.41 20L4 18.59l7.72-7.72 1.47 1.35L5.41 20z\"/>\n",
              "  </svg>\n",
              "      </button>\n",
              "      \n",
              "  <style>\n",
              "    .colab-df-container {\n",
              "      display:flex;\n",
              "      flex-wrap:wrap;\n",
              "      gap: 12px;\n",
              "    }\n",
              "\n",
              "    .colab-df-convert {\n",
              "      background-color: #E8F0FE;\n",
              "      border: none;\n",
              "      border-radius: 50%;\n",
              "      cursor: pointer;\n",
              "      display: none;\n",
              "      fill: #1967D2;\n",
              "      height: 32px;\n",
              "      padding: 0 0 0 0;\n",
              "      width: 32px;\n",
              "    }\n",
              "\n",
              "    .colab-df-convert:hover {\n",
              "      background-color: #E2EBFA;\n",
              "      box-shadow: 0px 1px 2px rgba(60, 64, 67, 0.3), 0px 1px 3px 1px rgba(60, 64, 67, 0.15);\n",
              "      fill: #174EA6;\n",
              "    }\n",
              "\n",
              "    [theme=dark] .colab-df-convert {\n",
              "      background-color: #3B4455;\n",
              "      fill: #D2E3FC;\n",
              "    }\n",
              "\n",
              "    [theme=dark] .colab-df-convert:hover {\n",
              "      background-color: #434B5C;\n",
              "      box-shadow: 0px 1px 3px 1px rgba(0, 0, 0, 0.15);\n",
              "      filter: drop-shadow(0px 1px 2px rgba(0, 0, 0, 0.3));\n",
              "      fill: #FFFFFF;\n",
              "    }\n",
              "  </style>\n",
              "\n",
              "      <script>\n",
              "        const buttonEl =\n",
              "          document.querySelector('#df-6bc8ac3a-f823-47d8-95a5-6826cc0b902f button.colab-df-convert');\n",
              "        buttonEl.style.display =\n",
              "          google.colab.kernel.accessAllowed ? 'block' : 'none';\n",
              "\n",
              "        async function convertToInteractive(key) {\n",
              "          const element = document.querySelector('#df-6bc8ac3a-f823-47d8-95a5-6826cc0b902f');\n",
              "          const dataTable =\n",
              "            await google.colab.kernel.invokeFunction('convertToInteractive',\n",
              "                                                     [key], {});\n",
              "          if (!dataTable) return;\n",
              "\n",
              "          const docLinkHtml = 'Like what you see? Visit the ' +\n",
              "            '<a target=\"_blank\" href=https://colab.research.google.com/notebooks/data_table.ipynb>data table notebook</a>'\n",
              "            + ' to learn more about interactive tables.';\n",
              "          element.innerHTML = '';\n",
              "          dataTable['output_type'] = 'display_data';\n",
              "          await google.colab.output.renderOutput(dataTable, element);\n",
              "          const docLink = document.createElement('div');\n",
              "          docLink.innerHTML = docLinkHtml;\n",
              "          element.appendChild(docLink);\n",
              "        }\n",
              "      </script>\n",
              "    </div>\n",
              "  </div>\n",
              "  "
            ]
          },
          "metadata": {},
          "execution_count": 123
        }
      ]
    },
    {
      "cell_type": "code",
      "source": [
        "test.head(3)"
      ],
      "metadata": {
        "colab": {
          "base_uri": "https://localhost:8080/",
          "height": 143
        },
        "id": "8dUyEWNmTUdq",
        "outputId": "e8199466-56ef-4caa-b5d2-8335861e46a0"
      },
      "execution_count": null,
      "outputs": [
        {
          "output_type": "execute_result",
          "data": {
            "text/plain": [
              "   PassengerId  Pclass                              Name     Sex   Age  SibSp  \\\n",
              "0          892       3                  Kelly, Mr. James    male  34.5      0   \n",
              "1          893       3  Wilkes, Mrs. James (Ellen Needs)  female  47.0      1   \n",
              "2          894       2         Myles, Mr. Thomas Francis    male  62.0      0   \n",
              "\n",
              "   Parch  Ticket    Fare Cabin Embarked  \n",
              "0      0  330911  7.8292   NaN        Q  \n",
              "1      0  363272  7.0000   NaN        S  \n",
              "2      0  240276  9.6875   NaN        Q  "
            ],
            "text/html": [
              "\n",
              "  <div id=\"df-f1ea27ed-1bd3-4015-89b0-ec06f5237cc6\">\n",
              "    <div class=\"colab-df-container\">\n",
              "      <div>\n",
              "<style scoped>\n",
              "    .dataframe tbody tr th:only-of-type {\n",
              "        vertical-align: middle;\n",
              "    }\n",
              "\n",
              "    .dataframe tbody tr th {\n",
              "        vertical-align: top;\n",
              "    }\n",
              "\n",
              "    .dataframe thead th {\n",
              "        text-align: right;\n",
              "    }\n",
              "</style>\n",
              "<table border=\"1\" class=\"dataframe\">\n",
              "  <thead>\n",
              "    <tr style=\"text-align: right;\">\n",
              "      <th></th>\n",
              "      <th>PassengerId</th>\n",
              "      <th>Pclass</th>\n",
              "      <th>Name</th>\n",
              "      <th>Sex</th>\n",
              "      <th>Age</th>\n",
              "      <th>SibSp</th>\n",
              "      <th>Parch</th>\n",
              "      <th>Ticket</th>\n",
              "      <th>Fare</th>\n",
              "      <th>Cabin</th>\n",
              "      <th>Embarked</th>\n",
              "    </tr>\n",
              "  </thead>\n",
              "  <tbody>\n",
              "    <tr>\n",
              "      <th>0</th>\n",
              "      <td>892</td>\n",
              "      <td>3</td>\n",
              "      <td>Kelly, Mr. James</td>\n",
              "      <td>male</td>\n",
              "      <td>34.5</td>\n",
              "      <td>0</td>\n",
              "      <td>0</td>\n",
              "      <td>330911</td>\n",
              "      <td>7.8292</td>\n",
              "      <td>NaN</td>\n",
              "      <td>Q</td>\n",
              "    </tr>\n",
              "    <tr>\n",
              "      <th>1</th>\n",
              "      <td>893</td>\n",
              "      <td>3</td>\n",
              "      <td>Wilkes, Mrs. James (Ellen Needs)</td>\n",
              "      <td>female</td>\n",
              "      <td>47.0</td>\n",
              "      <td>1</td>\n",
              "      <td>0</td>\n",
              "      <td>363272</td>\n",
              "      <td>7.0000</td>\n",
              "      <td>NaN</td>\n",
              "      <td>S</td>\n",
              "    </tr>\n",
              "    <tr>\n",
              "      <th>2</th>\n",
              "      <td>894</td>\n",
              "      <td>2</td>\n",
              "      <td>Myles, Mr. Thomas Francis</td>\n",
              "      <td>male</td>\n",
              "      <td>62.0</td>\n",
              "      <td>0</td>\n",
              "      <td>0</td>\n",
              "      <td>240276</td>\n",
              "      <td>9.6875</td>\n",
              "      <td>NaN</td>\n",
              "      <td>Q</td>\n",
              "    </tr>\n",
              "  </tbody>\n",
              "</table>\n",
              "</div>\n",
              "      <button class=\"colab-df-convert\" onclick=\"convertToInteractive('df-f1ea27ed-1bd3-4015-89b0-ec06f5237cc6')\"\n",
              "              title=\"Convert this dataframe to an interactive table.\"\n",
              "              style=\"display:none;\">\n",
              "        \n",
              "  <svg xmlns=\"http://www.w3.org/2000/svg\" height=\"24px\"viewBox=\"0 0 24 24\"\n",
              "       width=\"24px\">\n",
              "    <path d=\"M0 0h24v24H0V0z\" fill=\"none\"/>\n",
              "    <path d=\"M18.56 5.44l.94 2.06.94-2.06 2.06-.94-2.06-.94-.94-2.06-.94 2.06-2.06.94zm-11 1L8.5 8.5l.94-2.06 2.06-.94-2.06-.94L8.5 2.5l-.94 2.06-2.06.94zm10 10l.94 2.06.94-2.06 2.06-.94-2.06-.94-.94-2.06-.94 2.06-2.06.94z\"/><path d=\"M17.41 7.96l-1.37-1.37c-.4-.4-.92-.59-1.43-.59-.52 0-1.04.2-1.43.59L10.3 9.45l-7.72 7.72c-.78.78-.78 2.05 0 2.83L4 21.41c.39.39.9.59 1.41.59.51 0 1.02-.2 1.41-.59l7.78-7.78 2.81-2.81c.8-.78.8-2.07 0-2.86zM5.41 20L4 18.59l7.72-7.72 1.47 1.35L5.41 20z\"/>\n",
              "  </svg>\n",
              "      </button>\n",
              "      \n",
              "  <style>\n",
              "    .colab-df-container {\n",
              "      display:flex;\n",
              "      flex-wrap:wrap;\n",
              "      gap: 12px;\n",
              "    }\n",
              "\n",
              "    .colab-df-convert {\n",
              "      background-color: #E8F0FE;\n",
              "      border: none;\n",
              "      border-radius: 50%;\n",
              "      cursor: pointer;\n",
              "      display: none;\n",
              "      fill: #1967D2;\n",
              "      height: 32px;\n",
              "      padding: 0 0 0 0;\n",
              "      width: 32px;\n",
              "    }\n",
              "\n",
              "    .colab-df-convert:hover {\n",
              "      background-color: #E2EBFA;\n",
              "      box-shadow: 0px 1px 2px rgba(60, 64, 67, 0.3), 0px 1px 3px 1px rgba(60, 64, 67, 0.15);\n",
              "      fill: #174EA6;\n",
              "    }\n",
              "\n",
              "    [theme=dark] .colab-df-convert {\n",
              "      background-color: #3B4455;\n",
              "      fill: #D2E3FC;\n",
              "    }\n",
              "\n",
              "    [theme=dark] .colab-df-convert:hover {\n",
              "      background-color: #434B5C;\n",
              "      box-shadow: 0px 1px 3px 1px rgba(0, 0, 0, 0.15);\n",
              "      filter: drop-shadow(0px 1px 2px rgba(0, 0, 0, 0.3));\n",
              "      fill: #FFFFFF;\n",
              "    }\n",
              "  </style>\n",
              "\n",
              "      <script>\n",
              "        const buttonEl =\n",
              "          document.querySelector('#df-f1ea27ed-1bd3-4015-89b0-ec06f5237cc6 button.colab-df-convert');\n",
              "        buttonEl.style.display =\n",
              "          google.colab.kernel.accessAllowed ? 'block' : 'none';\n",
              "\n",
              "        async function convertToInteractive(key) {\n",
              "          const element = document.querySelector('#df-f1ea27ed-1bd3-4015-89b0-ec06f5237cc6');\n",
              "          const dataTable =\n",
              "            await google.colab.kernel.invokeFunction('convertToInteractive',\n",
              "                                                     [key], {});\n",
              "          if (!dataTable) return;\n",
              "\n",
              "          const docLinkHtml = 'Like what you see? Visit the ' +\n",
              "            '<a target=\"_blank\" href=https://colab.research.google.com/notebooks/data_table.ipynb>data table notebook</a>'\n",
              "            + ' to learn more about interactive tables.';\n",
              "          element.innerHTML = '';\n",
              "          dataTable['output_type'] = 'display_data';\n",
              "          await google.colab.output.renderOutput(dataTable, element);\n",
              "          const docLink = document.createElement('div');\n",
              "          docLink.innerHTML = docLinkHtml;\n",
              "          element.appendChild(docLink);\n",
              "        }\n",
              "      </script>\n",
              "    </div>\n",
              "  </div>\n",
              "  "
            ]
          },
          "metadata": {},
          "execution_count": 124
        }
      ]
    },
    {
      "cell_type": "code",
      "source": [
        "train = train.drop(columns = ['PassengerId', 'Name', 'Cabin', 'Ticket'])"
      ],
      "metadata": {
        "id": "9Wbo2P6RTWI9"
      },
      "execution_count": null,
      "outputs": []
    },
    {
      "cell_type": "markdown",
      "source": [
        "## Taking Care of Missing Data"
      ],
      "metadata": {
        "id": "rbcDjxAGc2zU"
      }
    },
    {
      "cell_type": "code",
      "source": [
        "train.nunique()"
      ],
      "metadata": {
        "colab": {
          "base_uri": "https://localhost:8080/"
        },
        "id": "FM-SdqOBeVeY",
        "outputId": "a46b47da-a97e-46f4-a7cd-beb35e901f65"
      },
      "execution_count": null,
      "outputs": [
        {
          "output_type": "execute_result",
          "data": {
            "text/plain": [
              "Survived      2\n",
              "Pclass        3\n",
              "Sex           2\n",
              "Age          88\n",
              "SibSp         7\n",
              "Parch         7\n",
              "Fare        248\n",
              "Embarked      3\n",
              "dtype: int64"
            ]
          },
          "metadata": {},
          "execution_count": 126
        }
      ]
    },
    {
      "cell_type": "code",
      "source": [
        "train.info()"
      ],
      "metadata": {
        "colab": {
          "base_uri": "https://localhost:8080/"
        },
        "id": "F8TivRheT7xk",
        "outputId": "52340d2b-7acf-4cf8-8c70-401da114ea19"
      },
      "execution_count": null,
      "outputs": [
        {
          "output_type": "stream",
          "name": "stdout",
          "text": [
            "<class 'pandas.core.frame.DataFrame'>\n",
            "RangeIndex: 891 entries, 0 to 890\n",
            "Data columns (total 8 columns):\n",
            " #   Column    Non-Null Count  Dtype  \n",
            "---  ------    --------------  -----  \n",
            " 0   Survived  891 non-null    int64  \n",
            " 1   Pclass    891 non-null    int64  \n",
            " 2   Sex       891 non-null    object \n",
            " 3   Age       714 non-null    float64\n",
            " 4   SibSp     891 non-null    int64  \n",
            " 5   Parch     891 non-null    int64  \n",
            " 6   Fare      891 non-null    float64\n",
            " 7   Embarked  889 non-null    object \n",
            "dtypes: float64(2), int64(4), object(2)\n",
            "memory usage: 55.8+ KB\n"
          ]
        }
      ]
    },
    {
      "cell_type": "markdown",
      "source": [
        "Age and Embarked has missing values"
      ],
      "metadata": {
        "id": "zZvNhj8XXghH"
      }
    },
    {
      "cell_type": "markdown",
      "source": [
        "Age - Fill Average Age\n",
        "Embarked - Delete null rows"
      ],
      "metadata": {
        "id": "j6ZWZZZ5XmO1"
      }
    },
    {
      "cell_type": "code",
      "source": [
        "train = train.dropna(subset = ['Embarked'])"
      ],
      "metadata": {
        "id": "D4wlhpB7XIar"
      },
      "execution_count": null,
      "outputs": []
    },
    {
      "cell_type": "code",
      "source": [
        "train[train.isna()]"
      ],
      "metadata": {
        "colab": {
          "base_uri": "https://localhost:8080/",
          "height": 423
        },
        "id": "b5hfoppY0iYY",
        "outputId": "f50df3b2-40b0-4934-d01e-a284d37e92f8"
      },
      "execution_count": null,
      "outputs": [
        {
          "output_type": "execute_result",
          "data": {
            "text/plain": [
              "     Survived  Pclass  Sex  Age  SibSp  Parch  Fare Embarked\n",
              "0         NaN     NaN  NaN  NaN    NaN    NaN   NaN      NaN\n",
              "1         NaN     NaN  NaN  NaN    NaN    NaN   NaN      NaN\n",
              "2         NaN     NaN  NaN  NaN    NaN    NaN   NaN      NaN\n",
              "3         NaN     NaN  NaN  NaN    NaN    NaN   NaN      NaN\n",
              "4         NaN     NaN  NaN  NaN    NaN    NaN   NaN      NaN\n",
              "..        ...     ...  ...  ...    ...    ...   ...      ...\n",
              "886       NaN     NaN  NaN  NaN    NaN    NaN   NaN      NaN\n",
              "887       NaN     NaN  NaN  NaN    NaN    NaN   NaN      NaN\n",
              "888       NaN     NaN  NaN  NaN    NaN    NaN   NaN      NaN\n",
              "889       NaN     NaN  NaN  NaN    NaN    NaN   NaN      NaN\n",
              "890       NaN     NaN  NaN  NaN    NaN    NaN   NaN      NaN\n",
              "\n",
              "[889 rows x 8 columns]"
            ],
            "text/html": [
              "\n",
              "  <div id=\"df-812abb18-9b52-44c9-8e5a-e28fa0397300\">\n",
              "    <div class=\"colab-df-container\">\n",
              "      <div>\n",
              "<style scoped>\n",
              "    .dataframe tbody tr th:only-of-type {\n",
              "        vertical-align: middle;\n",
              "    }\n",
              "\n",
              "    .dataframe tbody tr th {\n",
              "        vertical-align: top;\n",
              "    }\n",
              "\n",
              "    .dataframe thead th {\n",
              "        text-align: right;\n",
              "    }\n",
              "</style>\n",
              "<table border=\"1\" class=\"dataframe\">\n",
              "  <thead>\n",
              "    <tr style=\"text-align: right;\">\n",
              "      <th></th>\n",
              "      <th>Survived</th>\n",
              "      <th>Pclass</th>\n",
              "      <th>Sex</th>\n",
              "      <th>Age</th>\n",
              "      <th>SibSp</th>\n",
              "      <th>Parch</th>\n",
              "      <th>Fare</th>\n",
              "      <th>Embarked</th>\n",
              "    </tr>\n",
              "  </thead>\n",
              "  <tbody>\n",
              "    <tr>\n",
              "      <th>0</th>\n",
              "      <td>NaN</td>\n",
              "      <td>NaN</td>\n",
              "      <td>NaN</td>\n",
              "      <td>NaN</td>\n",
              "      <td>NaN</td>\n",
              "      <td>NaN</td>\n",
              "      <td>NaN</td>\n",
              "      <td>NaN</td>\n",
              "    </tr>\n",
              "    <tr>\n",
              "      <th>1</th>\n",
              "      <td>NaN</td>\n",
              "      <td>NaN</td>\n",
              "      <td>NaN</td>\n",
              "      <td>NaN</td>\n",
              "      <td>NaN</td>\n",
              "      <td>NaN</td>\n",
              "      <td>NaN</td>\n",
              "      <td>NaN</td>\n",
              "    </tr>\n",
              "    <tr>\n",
              "      <th>2</th>\n",
              "      <td>NaN</td>\n",
              "      <td>NaN</td>\n",
              "      <td>NaN</td>\n",
              "      <td>NaN</td>\n",
              "      <td>NaN</td>\n",
              "      <td>NaN</td>\n",
              "      <td>NaN</td>\n",
              "      <td>NaN</td>\n",
              "    </tr>\n",
              "    <tr>\n",
              "      <th>3</th>\n",
              "      <td>NaN</td>\n",
              "      <td>NaN</td>\n",
              "      <td>NaN</td>\n",
              "      <td>NaN</td>\n",
              "      <td>NaN</td>\n",
              "      <td>NaN</td>\n",
              "      <td>NaN</td>\n",
              "      <td>NaN</td>\n",
              "    </tr>\n",
              "    <tr>\n",
              "      <th>4</th>\n",
              "      <td>NaN</td>\n",
              "      <td>NaN</td>\n",
              "      <td>NaN</td>\n",
              "      <td>NaN</td>\n",
              "      <td>NaN</td>\n",
              "      <td>NaN</td>\n",
              "      <td>NaN</td>\n",
              "      <td>NaN</td>\n",
              "    </tr>\n",
              "    <tr>\n",
              "      <th>...</th>\n",
              "      <td>...</td>\n",
              "      <td>...</td>\n",
              "      <td>...</td>\n",
              "      <td>...</td>\n",
              "      <td>...</td>\n",
              "      <td>...</td>\n",
              "      <td>...</td>\n",
              "      <td>...</td>\n",
              "    </tr>\n",
              "    <tr>\n",
              "      <th>886</th>\n",
              "      <td>NaN</td>\n",
              "      <td>NaN</td>\n",
              "      <td>NaN</td>\n",
              "      <td>NaN</td>\n",
              "      <td>NaN</td>\n",
              "      <td>NaN</td>\n",
              "      <td>NaN</td>\n",
              "      <td>NaN</td>\n",
              "    </tr>\n",
              "    <tr>\n",
              "      <th>887</th>\n",
              "      <td>NaN</td>\n",
              "      <td>NaN</td>\n",
              "      <td>NaN</td>\n",
              "      <td>NaN</td>\n",
              "      <td>NaN</td>\n",
              "      <td>NaN</td>\n",
              "      <td>NaN</td>\n",
              "      <td>NaN</td>\n",
              "    </tr>\n",
              "    <tr>\n",
              "      <th>888</th>\n",
              "      <td>NaN</td>\n",
              "      <td>NaN</td>\n",
              "      <td>NaN</td>\n",
              "      <td>NaN</td>\n",
              "      <td>NaN</td>\n",
              "      <td>NaN</td>\n",
              "      <td>NaN</td>\n",
              "      <td>NaN</td>\n",
              "    </tr>\n",
              "    <tr>\n",
              "      <th>889</th>\n",
              "      <td>NaN</td>\n",
              "      <td>NaN</td>\n",
              "      <td>NaN</td>\n",
              "      <td>NaN</td>\n",
              "      <td>NaN</td>\n",
              "      <td>NaN</td>\n",
              "      <td>NaN</td>\n",
              "      <td>NaN</td>\n",
              "    </tr>\n",
              "    <tr>\n",
              "      <th>890</th>\n",
              "      <td>NaN</td>\n",
              "      <td>NaN</td>\n",
              "      <td>NaN</td>\n",
              "      <td>NaN</td>\n",
              "      <td>NaN</td>\n",
              "      <td>NaN</td>\n",
              "      <td>NaN</td>\n",
              "      <td>NaN</td>\n",
              "    </tr>\n",
              "  </tbody>\n",
              "</table>\n",
              "<p>889 rows × 8 columns</p>\n",
              "</div>\n",
              "      <button class=\"colab-df-convert\" onclick=\"convertToInteractive('df-812abb18-9b52-44c9-8e5a-e28fa0397300')\"\n",
              "              title=\"Convert this dataframe to an interactive table.\"\n",
              "              style=\"display:none;\">\n",
              "        \n",
              "  <svg xmlns=\"http://www.w3.org/2000/svg\" height=\"24px\"viewBox=\"0 0 24 24\"\n",
              "       width=\"24px\">\n",
              "    <path d=\"M0 0h24v24H0V0z\" fill=\"none\"/>\n",
              "    <path d=\"M18.56 5.44l.94 2.06.94-2.06 2.06-.94-2.06-.94-.94-2.06-.94 2.06-2.06.94zm-11 1L8.5 8.5l.94-2.06 2.06-.94-2.06-.94L8.5 2.5l-.94 2.06-2.06.94zm10 10l.94 2.06.94-2.06 2.06-.94-2.06-.94-.94-2.06-.94 2.06-2.06.94z\"/><path d=\"M17.41 7.96l-1.37-1.37c-.4-.4-.92-.59-1.43-.59-.52 0-1.04.2-1.43.59L10.3 9.45l-7.72 7.72c-.78.78-.78 2.05 0 2.83L4 21.41c.39.39.9.59 1.41.59.51 0 1.02-.2 1.41-.59l7.78-7.78 2.81-2.81c.8-.78.8-2.07 0-2.86zM5.41 20L4 18.59l7.72-7.72 1.47 1.35L5.41 20z\"/>\n",
              "  </svg>\n",
              "      </button>\n",
              "      \n",
              "  <style>\n",
              "    .colab-df-container {\n",
              "      display:flex;\n",
              "      flex-wrap:wrap;\n",
              "      gap: 12px;\n",
              "    }\n",
              "\n",
              "    .colab-df-convert {\n",
              "      background-color: #E8F0FE;\n",
              "      border: none;\n",
              "      border-radius: 50%;\n",
              "      cursor: pointer;\n",
              "      display: none;\n",
              "      fill: #1967D2;\n",
              "      height: 32px;\n",
              "      padding: 0 0 0 0;\n",
              "      width: 32px;\n",
              "    }\n",
              "\n",
              "    .colab-df-convert:hover {\n",
              "      background-color: #E2EBFA;\n",
              "      box-shadow: 0px 1px 2px rgba(60, 64, 67, 0.3), 0px 1px 3px 1px rgba(60, 64, 67, 0.15);\n",
              "      fill: #174EA6;\n",
              "    }\n",
              "\n",
              "    [theme=dark] .colab-df-convert {\n",
              "      background-color: #3B4455;\n",
              "      fill: #D2E3FC;\n",
              "    }\n",
              "\n",
              "    [theme=dark] .colab-df-convert:hover {\n",
              "      background-color: #434B5C;\n",
              "      box-shadow: 0px 1px 3px 1px rgba(0, 0, 0, 0.15);\n",
              "      filter: drop-shadow(0px 1px 2px rgba(0, 0, 0, 0.3));\n",
              "      fill: #FFFFFF;\n",
              "    }\n",
              "  </style>\n",
              "\n",
              "      <script>\n",
              "        const buttonEl =\n",
              "          document.querySelector('#df-812abb18-9b52-44c9-8e5a-e28fa0397300 button.colab-df-convert');\n",
              "        buttonEl.style.display =\n",
              "          google.colab.kernel.accessAllowed ? 'block' : 'none';\n",
              "\n",
              "        async function convertToInteractive(key) {\n",
              "          const element = document.querySelector('#df-812abb18-9b52-44c9-8e5a-e28fa0397300');\n",
              "          const dataTable =\n",
              "            await google.colab.kernel.invokeFunction('convertToInteractive',\n",
              "                                                     [key], {});\n",
              "          if (!dataTable) return;\n",
              "\n",
              "          const docLinkHtml = 'Like what you see? Visit the ' +\n",
              "            '<a target=\"_blank\" href=https://colab.research.google.com/notebooks/data_table.ipynb>data table notebook</a>'\n",
              "            + ' to learn more about interactive tables.';\n",
              "          element.innerHTML = '';\n",
              "          dataTable['output_type'] = 'display_data';\n",
              "          await google.colab.output.renderOutput(dataTable, element);\n",
              "          const docLink = document.createElement('div');\n",
              "          docLink.innerHTML = docLinkHtml;\n",
              "          element.appendChild(docLink);\n",
              "        }\n",
              "      </script>\n",
              "    </div>\n",
              "  </div>\n",
              "  "
            ]
          },
          "metadata": {},
          "execution_count": 104
        }
      ]
    },
    {
      "cell_type": "code",
      "source": [
        "from sklearn.impute import SimpleImputer\n",
        "imputer = SimpleImputer(missing_values = np.NaN, strategy = 'mean')\n",
        "train.Age = imputer.fit_transform(train['Age'].values.reshape(-1,1))"
      ],
      "metadata": {
        "id": "sIngtdPfX_uh"
      },
      "execution_count": null,
      "outputs": []
    },
    {
      "cell_type": "code",
      "source": [
        "train.head(2)"
      ],
      "metadata": {
        "colab": {
          "base_uri": "https://localhost:8080/",
          "height": 112
        },
        "id": "019kCVb2OkmM",
        "outputId": "e7a7988a-c87d-4ff9-baf0-1237e8ee1d08"
      },
      "execution_count": null,
      "outputs": [
        {
          "output_type": "execute_result",
          "data": {
            "text/plain": [
              "   Survived  Pclass     Sex   Age  SibSp  Parch     Fare Embarked\n",
              "0         0       3    male  22.0      1      0   7.2500        S\n",
              "1         1       1  female  38.0      1      0  71.2833        C"
            ],
            "text/html": [
              "\n",
              "  <div id=\"df-6e9b55b1-24b3-49b0-a464-69afbcbcd42a\">\n",
              "    <div class=\"colab-df-container\">\n",
              "      <div>\n",
              "<style scoped>\n",
              "    .dataframe tbody tr th:only-of-type {\n",
              "        vertical-align: middle;\n",
              "    }\n",
              "\n",
              "    .dataframe tbody tr th {\n",
              "        vertical-align: top;\n",
              "    }\n",
              "\n",
              "    .dataframe thead th {\n",
              "        text-align: right;\n",
              "    }\n",
              "</style>\n",
              "<table border=\"1\" class=\"dataframe\">\n",
              "  <thead>\n",
              "    <tr style=\"text-align: right;\">\n",
              "      <th></th>\n",
              "      <th>Survived</th>\n",
              "      <th>Pclass</th>\n",
              "      <th>Sex</th>\n",
              "      <th>Age</th>\n",
              "      <th>SibSp</th>\n",
              "      <th>Parch</th>\n",
              "      <th>Fare</th>\n",
              "      <th>Embarked</th>\n",
              "    </tr>\n",
              "  </thead>\n",
              "  <tbody>\n",
              "    <tr>\n",
              "      <th>0</th>\n",
              "      <td>0</td>\n",
              "      <td>3</td>\n",
              "      <td>male</td>\n",
              "      <td>22.0</td>\n",
              "      <td>1</td>\n",
              "      <td>0</td>\n",
              "      <td>7.2500</td>\n",
              "      <td>S</td>\n",
              "    </tr>\n",
              "    <tr>\n",
              "      <th>1</th>\n",
              "      <td>1</td>\n",
              "      <td>1</td>\n",
              "      <td>female</td>\n",
              "      <td>38.0</td>\n",
              "      <td>1</td>\n",
              "      <td>0</td>\n",
              "      <td>71.2833</td>\n",
              "      <td>C</td>\n",
              "    </tr>\n",
              "  </tbody>\n",
              "</table>\n",
              "</div>\n",
              "      <button class=\"colab-df-convert\" onclick=\"convertToInteractive('df-6e9b55b1-24b3-49b0-a464-69afbcbcd42a')\"\n",
              "              title=\"Convert this dataframe to an interactive table.\"\n",
              "              style=\"display:none;\">\n",
              "        \n",
              "  <svg xmlns=\"http://www.w3.org/2000/svg\" height=\"24px\"viewBox=\"0 0 24 24\"\n",
              "       width=\"24px\">\n",
              "    <path d=\"M0 0h24v24H0V0z\" fill=\"none\"/>\n",
              "    <path d=\"M18.56 5.44l.94 2.06.94-2.06 2.06-.94-2.06-.94-.94-2.06-.94 2.06-2.06.94zm-11 1L8.5 8.5l.94-2.06 2.06-.94-2.06-.94L8.5 2.5l-.94 2.06-2.06.94zm10 10l.94 2.06.94-2.06 2.06-.94-2.06-.94-.94-2.06-.94 2.06-2.06.94z\"/><path d=\"M17.41 7.96l-1.37-1.37c-.4-.4-.92-.59-1.43-.59-.52 0-1.04.2-1.43.59L10.3 9.45l-7.72 7.72c-.78.78-.78 2.05 0 2.83L4 21.41c.39.39.9.59 1.41.59.51 0 1.02-.2 1.41-.59l7.78-7.78 2.81-2.81c.8-.78.8-2.07 0-2.86zM5.41 20L4 18.59l7.72-7.72 1.47 1.35L5.41 20z\"/>\n",
              "  </svg>\n",
              "      </button>\n",
              "      \n",
              "  <style>\n",
              "    .colab-df-container {\n",
              "      display:flex;\n",
              "      flex-wrap:wrap;\n",
              "      gap: 12px;\n",
              "    }\n",
              "\n",
              "    .colab-df-convert {\n",
              "      background-color: #E8F0FE;\n",
              "      border: none;\n",
              "      border-radius: 50%;\n",
              "      cursor: pointer;\n",
              "      display: none;\n",
              "      fill: #1967D2;\n",
              "      height: 32px;\n",
              "      padding: 0 0 0 0;\n",
              "      width: 32px;\n",
              "    }\n",
              "\n",
              "    .colab-df-convert:hover {\n",
              "      background-color: #E2EBFA;\n",
              "      box-shadow: 0px 1px 2px rgba(60, 64, 67, 0.3), 0px 1px 3px 1px rgba(60, 64, 67, 0.15);\n",
              "      fill: #174EA6;\n",
              "    }\n",
              "\n",
              "    [theme=dark] .colab-df-convert {\n",
              "      background-color: #3B4455;\n",
              "      fill: #D2E3FC;\n",
              "    }\n",
              "\n",
              "    [theme=dark] .colab-df-convert:hover {\n",
              "      background-color: #434B5C;\n",
              "      box-shadow: 0px 1px 3px 1px rgba(0, 0, 0, 0.15);\n",
              "      filter: drop-shadow(0px 1px 2px rgba(0, 0, 0, 0.3));\n",
              "      fill: #FFFFFF;\n",
              "    }\n",
              "  </style>\n",
              "\n",
              "      <script>\n",
              "        const buttonEl =\n",
              "          document.querySelector('#df-6e9b55b1-24b3-49b0-a464-69afbcbcd42a button.colab-df-convert');\n",
              "        buttonEl.style.display =\n",
              "          google.colab.kernel.accessAllowed ? 'block' : 'none';\n",
              "\n",
              "        async function convertToInteractive(key) {\n",
              "          const element = document.querySelector('#df-6e9b55b1-24b3-49b0-a464-69afbcbcd42a');\n",
              "          const dataTable =\n",
              "            await google.colab.kernel.invokeFunction('convertToInteractive',\n",
              "                                                     [key], {});\n",
              "          if (!dataTable) return;\n",
              "\n",
              "          const docLinkHtml = 'Like what you see? Visit the ' +\n",
              "            '<a target=\"_blank\" href=https://colab.research.google.com/notebooks/data_table.ipynb>data table notebook</a>'\n",
              "            + ' to learn more about interactive tables.';\n",
              "          element.innerHTML = '';\n",
              "          dataTable['output_type'] = 'display_data';\n",
              "          await google.colab.output.renderOutput(dataTable, element);\n",
              "          const docLink = document.createElement('div');\n",
              "          docLink.innerHTML = docLinkHtml;\n",
              "          element.appendChild(docLink);\n",
              "        }\n",
              "      </script>\n",
              "    </div>\n",
              "  </div>\n",
              "  "
            ]
          },
          "metadata": {},
          "execution_count": 130
        }
      ]
    },
    {
      "cell_type": "code",
      "source": [
        "train = train.to_numpy()"
      ],
      "metadata": {
        "id": "TNe2iD8UfDJQ"
      },
      "execution_count": null,
      "outputs": []
    },
    {
      "cell_type": "markdown",
      "source": [
        "## Encoding Categorical Data"
      ],
      "metadata": {
        "id": "jR6U9XYWc52m"
      }
    },
    {
      "cell_type": "code",
      "source": [
        "print(train)"
      ],
      "metadata": {
        "id": "DTC7ko9ZhYJv"
      },
      "execution_count": null,
      "outputs": []
    },
    {
      "cell_type": "code",
      "source": [
        "from sklearn.preprocessing import LabelEncoder\n",
        "le = LabelEncoder()\n",
        "train[:, 2] = le.fit_transform(train[:, 2])\n",
        "print(train)"
      ],
      "metadata": {
        "id": "UwROzDnNg3IB"
      },
      "execution_count": null,
      "outputs": []
    },
    {
      "cell_type": "code",
      "source": [
        "survived = train[:, 0]\n",
        "survived\n",
        "train = train[:, 1:]"
      ],
      "metadata": {
        "id": "aKab6XBnoTNi"
      },
      "execution_count": null,
      "outputs": []
    },
    {
      "cell_type": "code",
      "source": [
        "from sklearn.compose import ColumnTransformer\n",
        "from sklearn.preprocessing import OneHotEncoder\n",
        "ct = ColumnTransformer(transformers = [('encoder', OneHotEncoder(sparse_output = False, drop = 'first'), [-1])], remainder = 'passthrough')"
      ],
      "metadata": {
        "id": "VgoOmLGUiGZC"
      },
      "execution_count": null,
      "outputs": []
    },
    {
      "cell_type": "code",
      "source": [
        "transformed_train = ct.fit_transform(train)"
      ],
      "metadata": {
        "id": "TNnC3A8ajw_K"
      },
      "execution_count": null,
      "outputs": []
    },
    {
      "cell_type": "markdown",
      "source": [
        "## Splitting Dataset into training and test set"
      ],
      "metadata": {
        "id": "EU8fc-ePdAPg"
      }
    },
    {
      "cell_type": "code",
      "source": [
        "from sklearn.model_selection import train_test_split\n",
        "x_train, x_test, y_train, y_test = train_test_split(transformed_train,survived, test_size = 0.2, random_state = 1) #ratio of split, randomstate to make sure we have the same random factor\n",
        "                                                                          # 8 will go in training and 2 in test"
      ],
      "metadata": {
        "id": "5tOO5uI8o-fK"
      },
      "execution_count": null,
      "outputs": []
    },
    {
      "cell_type": "markdown",
      "source": [
        "## Feature Scaling"
      ],
      "metadata": {
        "id": "thOTOMxgdGCD"
      }
    },
    {
      "cell_type": "code",
      "source": [
        "print(x_train)"
      ],
      "metadata": {
        "id": "dTHP2Sa2POLX"
      },
      "execution_count": null,
      "outputs": []
    },
    {
      "cell_type": "code",
      "source": [
        "from sklearn.preprocessing import StandardScaler\n",
        "sc = StandardScaler()\n",
        "\n",
        "x_train[:, -1:] = sc.fit_transform(x_train[:, -1:]) #fit - compute mean and standard deviation of all the values\n",
        "                          #transform - apply the formula to all the values\n",
        "x_test[:, -1:] = sc.transform(x_test[:, -1:]) # no need to fit the training set"
      ],
      "metadata": {
        "id": "68L9_UdMpUoK"
      },
      "execution_count": null,
      "outputs": []
    },
    {
      "cell_type": "code",
      "source": [
        "from sklearn.preprocessing import StandardScaler\n",
        "sc2 = StandardScaler()\n",
        "\n",
        "x_train[:, -4:-3] = sc2.fit_transform(x_train[:, -4:-3]) #fit - compute mean and standard deviation of all the values\n",
        "                          #transform - apply the formula to all the values\n",
        "x_test[:, -4:-3] = sc2.transform(x_test[:, -4:-3]) # no need to fit the training set"
      ],
      "metadata": {
        "id": "DC081mH1vJYK"
      },
      "execution_count": null,
      "outputs": []
    },
    {
      "cell_type": "code",
      "source": [
        "print(x_train)"
      ],
      "metadata": {
        "colab": {
          "base_uri": "https://localhost:8080/"
        },
        "id": "3v-Xbbr1Poe7",
        "outputId": "750b4589-7cdd-4606-8aad-6478fa1bf934"
      },
      "execution_count": null,
      "outputs": [
        {
          "output_type": "stream",
          "name": "stdout",
          "text": [
            "[[0.0 1.0 3 1 -0.013763343142133946 0 0 -0.5475598981576247]\n",
            " [0.0 1.0 3 1 -0.823296222307722 0 0 -0.4948313461898532]\n",
            " [1.0 0.0 3 1 -0.013763343142133946 0 0 -0.5550186710689468]\n",
            " [0.0 1.0 3 1 -0.013763343142133946 0 0 -0.5475598981576247]\n",
            " [0.0 0.0 1 1 2.14339305464793 0 2 2.068604700488532]\n",
            " [0.0 1.0 3 1 -1.051503089765849 4 1 0.23902986178219737]\n",
            " [1.0 0.0 3 0 -0.013763343142133946 0 0 -0.5580220702945723]\n",
            " [0.0 1.0 3 0 -0.013763343142133946 8 2 0.981488548663365]\n",
            " [1.0 0.0 3 0 -0.013763343142133946 1 0 -0.36233370419313093]\n",
            " [0.0 1.0 1 1 0.4698760266216648 0 0 -0.0916424039530736]\n",
            " [0.0 1.0 1 0 1.6109103639123001 1 0 1.190540549564258]\n",
            " [0.0 1.0 3 1 0.165600203344162 0 0 -0.5513937074340443]\n",
            " [0.0 1.0 1 1 1.5348414080929245 1 0 0.6421143811982184]\n",
            " [0.0 1.0 1 1 1.154496628996046 1 0 1.3276999246305565]\n",
            " [0.0 1.0 3 1 -0.5950893548495949 0 0 -0.5705577813008673]\n",
            " [0.0 1.0 2 1 -0.36688248739146784 1 0 -0.10127665229686438]\n",
            " [0.0 1.0 3 1 0.4698760266216648 1 1 -0.14727241858334947]\n",
            " [0.0 1.0 1 1 1.915186187189803 0 0 0.010604941372964149]\n",
            " [0.0 1.0 3 1 -1.5079168246821033 3 2 -0.0540377571918257]\n",
            " [0.0 1.0 1 0 1.7630482755510515 2 0 0.5322019035769789]\n",
            " [0.0 1.0 1 1 -0.013763343142133946 0 0 -0.08760223529277421]\n",
            " [0.0 1.0 1 0 -0.823296222307722 0 2 -0.09423308441093937]\n",
            " [1.0 0.0 1 1 1.0784276731766704 2 0 1.489928235451808]\n",
            " [0.0 1.0 2 0 -0.4429514432108435 0 0 -0.42449014512081346]\n",
            " [0.0 1.0 3 1 -1.812192647959606 0 1 -0.4375429977156268]\n",
            " [0.0 0.0 2 1 -0.5190203990302192 0 0 -0.3736262863808723]\n",
            " [0.0 0.0 1 0 -0.5190203990302192 1 0 2.068604700488532]\n",
            " [0.0 1.0 3 1 -0.13867561993334077 0 0 -0.5513937074340443]\n",
            " [0.0 1.0 3 1 -0.4049169653011557 0 0 -0.5475598981576247]\n",
            " [0.0 1.0 1 0 2.523737833744809 1 0 1.190540549564258]\n",
            " [0.0 0.0 3 1 -0.10064114202365292 0 0 -0.5679671008430016]\n",
            " [0.0 1.0 1 0 -0.06260666411396507 0 0 4.506691095876879]\n",
            " [1.0 0.0 3 1 -0.013763343142133946 0 0 -0.36233370419313093]\n",
            " [0.0 1.0 2 1 -0.13867561993334077 0 0 -0.42449014512081346]\n",
            " [0.0 0.0 3 1 -0.013763343142133946 0 0 -0.5680715236637601]\n",
            " [0.0 0.0 3 1 -0.5950893548495949 0 0 -0.5680715236637601]\n",
            " [0.0 0.0 1 1 -0.8993651781270977 1 0 1.959830928865088]\n",
            " [0.0 1.0 1 0 1.154496628996046 1 1 3.3513072818520193]\n",
            " [0.0 1.0 2 1 0.013462291705410624 0 0 -0.4866465860484959]\n",
            " [0.0 0.0 3 0 -1.583985780501479 1 1 -0.3686537711066577]\n",
            " [0.0 1.0 3 1 0.3938070708022891 0 0 -0.5475598981576247]\n",
            " [0.0 1.0 1 1 0.926289761537919 1 0 0.5451503333510338]\n",
            " [1.0 0.0 3 1 -0.013763343142133946 1 0 -0.36233370419313093]\n",
            " [0.0 1.0 3 0 -0.6711583106689706 2 2 0.10694742481087204]\n",
            " [0.0 0.0 2 1 0.4698760266216648 0 0 -0.42759796716719756]\n",
            " [0.0 1.0 2 0 0.013462291705410624 0 0 -0.42449014512081346]\n",
            " [0.0 1.0 2 0 -0.21474457575271647 1 0 -0.2255895341522294]\n",
            " [0.0 1.0 3 1 -0.5950893548495949 0 0 -0.5152385488752299]\n",
            " [0.0 1.0 2 1 -2.1164684712371087 1 1 -0.10127665229686438]\n",
            " [1.0 0.0 3 1 -0.013763343142133946 0 0 -0.5550186710689468]\n",
            " [0.0 0.0 3 1 -0.36688248739146784 0 0 -0.5680715236637601]\n",
            " [0.0 1.0 2 1 -0.13867561993334077 0 1 0.07276138230064666]\n",
            " [1.0 0.0 3 0 -0.013763343142133946 1 0 -0.14727241858334947]\n",
            " [0.0 0.0 3 0 -0.013763343142133946 1 0 -0.3882330499988777]\n",
            " [0.0 1.0 3 0 -0.013763343142133946 1 2 -0.16467622204310056]\n",
            " [1.0 0.0 3 1 -0.013763343142133946 0 0 -0.5550186710689468]\n",
            " [0.0 1.0 3 1 0.013462291705410624 0 0 -0.5674499592544832]\n",
            " [0.0 1.0 3 1 -0.5950893548495949 1 0 -0.5674499592544832]\n",
            " [0.0 1.0 3 1 -0.013763343142133946 0 0 -0.5513937074340443]\n",
            " [0.0 1.0 2 1 -0.5190203990302192 2 1 -0.46178400967742295]\n",
            " [0.0 0.0 2 1 -2.1925374270564846 0 2 0.17231611060569713]\n",
            " [0.0 1.0 3 1 -0.36688248739146784 0 0 -0.557504928706054]\n",
            " [0.0 1.0 2 0 0.7741518498991675 0 0 -0.3561180601003627]\n",
            " [1.0 0.0 3 1 -0.013763343142133946 0 0 -0.14727241858334947]\n",
            " [0.0 1.0 3 1 -0.823296222307722 0 0 -0.5448672811366376]\n",
            " [0.0 0.0 2 1 0.013462291705410624 1 0 -0.1510018050390104]\n",
            " [0.0 1.0 3 0 0.013462291705410624 1 1 -0.14727241858334947]\n",
            " [1.0 0.0 1 0 0.2416691591635377 1 0 1.489928235451808]\n",
            " [0.0 0.0 3 0 -1.9643305595983573 0 1 -0.41412990954698725]\n",
            " [0.0 1.0 1 1 1.5348414080929245 2 0 2.5751796940491447]\n",
            " [0.0 1.0 1 1 1.3827034964541731 0 0 -0.08760223529277421]\n",
            " [0.0 1.0 3 1 -0.8993651781270977 1 0 -0.5862013143535465]\n",
            " [0.0 1.0 1 0 2.14339305464793 0 1 3.0677694884010287]\n",
            " [1.0 0.0 3 0 -0.013763343142133946 0 0 -0.5530495550203577]\n",
            " [0.0 1.0 3 0 -0.36688248739146784 0 0 -0.5543971066596698]\n",
            " [0.0 1.0 3 1 1.0784276731766704 0 1 -0.34741615837048706]\n",
            " [0.0 1.0 1 0 0.3938070708022891 0 0 2.6244896417658934]\n",
            " [0.0 0.0 3 0 -1.1275720455852247 1 0 -0.38833498656199905]\n",
            " [0.0 1.0 3 1 -0.29081353157209217 0 0 -0.5543971066596698]\n",
            " [0.0 1.0 3 1 0.165600203344162 0 0 -0.5506677202040089]\n",
            " [0.0 0.0 1 0 -0.5950893548495949 0 2 0.4829938924233512]\n",
            " [0.0 0.0 3 1 -0.013763343142133946 0 0 -0.5679671008430016]\n",
            " [0.0 1.0 2 0 -0.21474457575271647 0 0 -0.4866465860484959]\n",
            " [1.0 0.0 3 1 0.08953124752478632 0 0 -0.5550186710689468]\n",
            " [0.0 1.0 1 1 0.5459449824410405 1 1 0.5589291731758824]\n",
            " [0.0 1.0 3 1 -0.013763343142133946 0 0 -0.5513937074340443]\n",
            " [0.0 0.0 3 0 -0.013763343142133946 1 0 -0.38833498656199905]\n",
            " [1.0 0.0 3 1 -0.013763343142133946 0 0 -0.5556402354782236]\n",
            " [0.0 1.0 3 1 -0.29081353157209217 1 2 -0.23615612910993544]\n",
            " [0.0 1.0 3 1 -0.6711583106689706 0 0 -0.5506677202040089]\n",
            " [0.0 0.0 2 0 -0.13867561993334077 1 0 -0.1510018050390104]\n",
            " [0.0 1.0 3 1 -0.013763343142133946 0 0 -0.5475598981576247]\n",
            " [0.0 1.0 3 1 -0.7472272664883463 0 0 -0.5029116835104519]\n",
            " [0.0 1.0 3 1 -0.7472272664883463 0 0 -0.5183463709216141]\n",
            " [0.0 1.0 2 0 -0.06260666411396507 1 0 -0.10127665229686438]\n",
            " [0.0 1.0 3 1 -0.013763343142133946 0 0 -0.5115091624195689]\n",
            " [1.0 0.0 3 1 -1.7361236921402303 4 1 -0.023581101137261234]\n",
            " [0.0 1.0 2 0 -1.8882616037789817 1 2 -0.05776714364748661]\n",
            " [0.0 1.0 2 0 -0.4429514432108435 0 2 -0.3871962805642039]\n",
            " [1.0 0.0 3 0 -0.013763343142133946 0 0 -0.5553294532735851]\n",
            " [0.0 1.0 2 0 1.8391172313704272 1 3 -0.1758643814100834]\n",
            " [0.0 1.0 3 0 0.7741518498991675 1 0 -0.5121307268288459]\n",
            " [0.0 1.0 3 1 -0.06260666411396507 0 0 -0.5475598981576247]\n",
            " [0.0 1.0 3 1 -0.013763343142133946 0 0 0.6569275042001038]\n",
            " [0.0 0.0 2 1 -0.36688248739146784 1 2 0.28606239750335616]\n",
            " [0.0 1.0 3 1 -0.29081353157209217 2 0 -0.5323315701303426]\n",
            " [0.0 1.0 3 0 -0.13867561993334077 1 1 -0.3896825382013112]\n",
            " [0.0 0.0 3 0 -0.013763343142133946 0 2 -0.3686537711066577]\n",
            " [0.0 0.0 1 1 0.4698760266216648 0 0 0.2499072389445418]\n",
            " [0.0 1.0 3 0 -2.1164684712371087 4 2 0.029873438060545692]\n",
            " [0.0 0.0 1 0 0.7741518498991675 1 1 2.596312883964557]\n",
            " [0.0 1.0 3 0 -0.21474457575271647 0 1 -0.4375429977156268]\n",
            " [0.0 1.0 3 0 2.523737833744809 0 0 -0.5093336869871]\n",
            " [0.0 0.0 1 0 -0.4429514432108435 0 0 0.9752729045705968]\n",
            " [0.0 1.0 3 1 0.165600203344162 0 0 -0.5475598981576247]\n",
            " [0.0 0.0 3 1 -0.013763343142133946 0 0 -0.5679671008430016]\n",
            " [0.0 0.0 3 1 -0.013763343142133946 0 0 -0.3882330499988777]\n",
            " [0.0 1.0 3 0 -1.2036410014046004 0 0 -0.5524279906110809]\n",
            " [0.0 1.0 1 1 -0.13867561993334077 0 0 0.42332370913277606]\n",
            " [0.0 1.0 2 1 -0.29081353157209217 0 0 -0.4866465860484959]\n",
            " [0.0 1.0 2 1 -1.051503089765849 0 0 -0.4866465860484959]\n",
            " [0.0 1.0 3 1 -0.4429514432108435 0 0 -0.5475598981576247]\n",
            " [1.0 0.0 3 0 -0.013763343142133946 0 0 -0.5550186710689468]\n",
            " [0.0 1.0 3 1 -0.6711583106689706 0 0 -0.5506677202040089]\n",
            " [0.0 0.0 2 0 -0.5190203990302192 0 0 -0.4048064434078349]\n",
            " [0.0 1.0 3 1 0.5459449824410405 2 0 -0.5506677202040089]\n",
            " [0.0 1.0 3 1 -0.7472272664883463 1 0 -0.5506677202040089]\n",
            " [0.0 1.0 2 0 1.5348414080929245 0 0 -0.4866465860484959]\n",
            " [0.0 1.0 3 1 -0.013763343142133946 0 0 -0.5475598981576247]\n",
            " [0.0 1.0 1 0 -0.4429514432108435 3 2 5.791153947647437]\n",
            " [0.0 1.0 3 1 -0.21474457575271647 0 0 -0.5513937074340443]\n",
            " [0.0 1.0 3 1 -0.013763343142133946 0 0 -0.3871962805642039]\n",
            " [0.0 1.0 3 0 0.8502208057185432 0 5 0.23902986178219737]\n",
            " [0.0 1.0 1 0 2.14339305464793 0 0 -0.08760223529277421]\n",
            " [0.0 0.0 1 0 0.08953124752478632 1 0 2.068604700488532]\n",
            " [0.0 1.0 3 1 0.926289761537919 0 0 -0.5599911863431613]\n",
            " [0.0 1.0 2 1 0.5079105045313527 0 2 -0.10127665229686438]\n",
            " [1.0 0.0 3 0 -0.013763343142133946 0 0 -0.5550186710689468]\n",
            " [0.0 1.0 3 1 0.08953124752478632 0 0 -0.5506677202040089]\n",
            " [0.0 1.0 2 1 -0.4429514432108435 2 0 1.0796957253291035]\n",
            " [0.0 0.0 1 1 1.3827034964541731 1 0 1.1599819569465726]\n",
            " [1.0 0.0 3 1 -0.36688248739146784 0 0 -0.5552250304528267]\n",
            " [0.0 1.0 2 0 -0.8993651781270977 0 1 -0.1758643814100834]\n",
            " [0.0 1.0 2 1 -0.013763343142133946 0 0 -0.7477036379447625]\n",
            " [0.0 0.0 1 1 1.9912551430091787 0 0 0.015473033826420204]\n",
            " [0.0 1.0 1 1 0.6220139382604162 0 1 3.0677694884010287]\n",
            " [0.0 1.0 3 1 -0.7091927885786584 0 0 -0.5674499592544832]\n",
            " [0.0 0.0 1 0 -0.013763343142133946 0 0 2.009140876581837]\n",
            " [0.0 0.0 1 0 -0.013763343142133946 1 0 2.8951809420059513]\n",
            " [0.0 1.0 3 1 -0.013763343142133946 0 0 -0.5513937074340443]\n",
            " [0.0 1.0 3 1 1.0784276731766704 0 0 -0.5475598981576247]\n",
            " [0.0 1.0 2 0 -2.1164684712371087 1 1 -0.10127665229686438]\n",
            " [0.0 1.0 3 1 0.013462291705410624 0 0 -0.5115091624195689]\n",
            " [0.0 0.0 3 1 -0.013763343142133946 0 0 -0.5680715236637601]\n",
            " [0.0 1.0 1 1 -0.013763343142133946 0 0 -0.7477036379447625]\n",
            " [0.0 1.0 2 1 -0.06260666411396507 1 0 -0.2255895341522294]\n",
            " [0.0 1.0 1 1 1.6869793197316758 0 0 0.010604941372964149]\n",
            " [0.0 0.0 1 1 3.1322894802998142 0 0 0.1138890561336757]\n",
            " [0.0 0.0 2 0 -0.9754341339464734 0 0 -0.44935272149188643]\n",
            " [0.0 1.0 1 1 1.3827034964541731 1 0 0.5451503333510338]\n",
            " [0.0 0.0 1 1 1.4587724522735488 1 0 1.4676563395386009]\n",
            " [0.0 1.0 2 0 0.3177381149829134 1 1 0.06033009411511016]\n",
            " [0.0 1.0 1 0 -0.8993651781270977 0 2 1.2326005700112026]\n",
            " [0.0 1.0 2 1 -0.4429514432108435 0 0 -0.42449014512081346]\n",
            " [0.0 1.0 3 1 -1.9643305595983573 3 2 -0.0540377571918257]\n",
            " [0.0 1.0 3 0 -2.1164684712371087 0 1 -0.48757893266241115]\n",
            " [0.0 1.0 3 1 -0.013763343142133946 0 0 -0.5724224745286978]\n",
            " [0.0 1.0 1 1 -0.013763343142133946 0 0 0.49542518060888774]\n",
            " [0.0 1.0 1 1 1.2305655848154218 1 0 0.7732644715556285]\n",
            " [0.0 0.0 1 0 0.013462291705410624 0 0 0.02303622955850065]\n",
            " [0.0 1.0 3 1 -0.013763343142133946 0 0 -0.5475598981576247]\n",
            " [0.0 1.0 3 0 -0.013763343142133946 1 0 -0.34741615837048706]\n",
            " [0.0 1.0 2 0 -1.812192647959606 0 1 0.07276138230064666]\n",
            " [0.0 1.0 3 1 -0.013763343142133946 0 0 -0.5513937074340443]\n",
            " [0.0 0.0 1 1 2.67587574538356 0 1 0.7932589554732454]\n",
            " [0.0 0.0 1 1 -0.9754341339464734 0 2 2.009140876581837]\n",
            " [0.0 1.0 1 1 0.3938070708022891 0 0 -0.09412866159018085]\n",
            " [0.0 1.0 3 1 -1.583985780501479 5 2 0.4183511938585614]\n",
            " [0.0 1.0 3 0 -1.583985780501479 2 2 0.10694742481087204]\n",
            " [0.0 1.0 3 1 1.6109103639123001 0 0 -0.5475598981576247]\n",
            " [0.0 1.0 1 0 0.7741518498991675 0 0 3.0677694884010287]\n",
            " [0.0 0.0 1 1 -0.21474457575271647 0 0 1.1599819569465726]\n",
            " [0.0 1.0 3 0 -0.013763343142133946 3 1 -0.11453586427555762]\n",
            " [0.0 1.0 1 0 1.6869793197316758 1 1 1.5769472527505635]\n",
            " [0.0 1.0 3 1 0.7741518498991675 1 4 -0.0540377571918257]\n",
            " [1.0 0.0 3 0 -0.013763343142133946 0 2 -0.5550186710689468]\n",
            " [0.0 1.0 1 0 -0.013763343142133946 0 1 0.6197380624642528]\n",
            " [0.0 0.0 3 1 0.2416691591635377 0 0 -0.5323315701303426]\n",
            " [0.0 1.0 3 1 -0.06260666411396507 0 0 -0.5115091624195689]\n",
            " [0.0 1.0 2 1 -0.8993651781270977 0 0 -0.42449014512081346]\n",
            " [0.0 0.0 3 1 -0.013763343142133946 0 0 -0.5680715236637601]\n",
            " [0.0 0.0 1 0 -0.8993651781270977 2 2 5.7756148374155165]\n",
            " [1.0 0.0 3 1 -0.013763343142133946 0 0 -0.5550186710689468]\n",
            " [0.0 1.0 3 1 -0.013763343142133946 8 2 0.981488548663365]\n",
            " [0.0 0.0 2 0 -1.2036410014046004 1 0 -6.607640550042466e-05]\n",
            " [0.0 0.0 1 1 0.3938070708022891 0 0 -0.08760223529277421]\n",
            " [0.0 1.0 1 1 -0.013763343142133946 0 0 0.5451503333510338]\n",
            " [0.0 0.0 1 1 1.4587724522735488 1 1 2.009140876581837]\n",
            " [0.0 1.0 3 0 -0.013763343142133946 8 2 0.981488548663365]\n",
            " [0.0 1.0 1 1 -0.823296222307722 3 2 5.791153947647437]\n",
            " [0.0 1.0 2 1 0.3177381149829134 1 0 -0.2255895341522294]\n",
            " [0.0 1.0 3 1 -0.06260666411396507 0 0 -0.5519108490225626]\n",
            " [0.0 0.0 3 0 1.154496628996046 0 1 -0.38833498656199905]\n",
            " [0.0 1.0 3 1 -0.4429514432108435 0 0 -0.5513937074340443]\n",
            " [0.0 0.0 1 1 -0.36688248739146784 1 0 1.51675992787147]\n",
            " [1.0 0.0 3 1 -0.013763343142133946 0 0 -0.5374085082253157]\n",
            " [1.0 0.0 3 0 -0.013763343142133946 0 0 -0.5550186710689468]\n",
            " [0.0 1.0 3 1 0.926289761537919 0 0 -0.557504928706054]\n",
            " [0.0 1.0 3 0 1.3827034964541731 1 3 0.10694742481087204]\n",
            " [0.0 1.0 3 0 -0.013763343142133946 0 0 -0.5475598981576247]\n",
            " [0.0 1.0 1 1 1.6869793197316758 1 1 1.2326005700112026]\n",
            " [0.0 1.0 1 1 0.3177381149829134 0 0 -0.08760223529277421]\n",
            " [0.0 1.0 2 0 0.20363468125384987 0 0 -0.42449014512081346]\n",
            " [0.0 0.0 1 1 -0.013763343142133946 0 0 -0.009285119723894272]\n",
            " [0.0 1.0 3 1 -0.8993651781270977 0 0 -0.5543971066596698]\n",
            " [0.0 1.0 3 0 -0.8993651781270977 2 0 -0.3001772632654484]\n",
            " [1.0 0.0 3 0 -0.013763343142133946 0 0 -0.5518064262018041]\n",
            " [0.0 0.0 3 1 -0.7472272664883463 0 0 -0.5679671008430016]\n",
            " [0.0 1.0 3 1 -0.013763343142133946 0 0 -0.5513937074340443]\n",
            " [0.0 0.0 1 0 1.8391172313704272 1 0 1.198208168117097]\n",
            " [0.0 1.0 3 1 -0.013763343142133946 0 0 0.6569275042001038]\n",
            " [0.0 1.0 3 1 -0.9754341339464734 0 0 -0.5323315701303426]\n",
            " [0.0 1.0 3 0 -0.9754341339464734 4 2 -0.5506677202040089]\n",
            " [0.0 0.0 3 1 -1.355778913043352 1 0 -0.4682060131540711]\n",
            " [0.0 0.0 3 0 -1.2036410014046004 1 0 -0.4682060131540711]\n",
            " [0.0 1.0 3 1 0.3938070708022891 0 0 -0.5475598981576247]\n",
            " [0.0 1.0 2 1 2.7519447012029357 0 0 -0.4866465860484959]\n",
            " [0.0 1.0 2 0 1.154496628996046 1 1 -0.09506100820409612]\n",
            " [0.0 1.0 3 0 -0.7472272664883463 0 0 -0.5323315701303426]\n",
            " [0.0 0.0 1 0 -0.8993651781270977 1 0 4.909154050883623]\n",
            " [0.0 1.0 1 1 -0.06260666411396507 1 0 0.9081439483686996]\n",
            " [0.0 1.0 3 1 -0.13867561993334077 0 0 -0.5524279906110809]\n",
            " [0.0 1.0 3 0 -0.5190203990302192 0 0 -0.5506677202040089]\n",
            " [0.0 1.0 3 0 -0.13867561993334077 0 0 -0.5513937074340443]\n",
            " [0.0 1.0 3 0 -1.812192647959606 4 2 0.029873438060545692]\n",
            " [0.0 1.0 1 1 0.08953124752478632 1 0 0.5451503333510338]\n",
            " [0.0 1.0 2 0 -1.6600547363208547 0 2 -0.09506100820409612]\n",
            " [0.0 0.0 1 0 1.8391172313704272 1 0 0.7291333984969739]\n",
            " [1.0 0.0 3 1 -0.013763343142133946 0 0 -0.5530495550203577]\n",
            " [0.0 1.0 1 1 2.5998067895641843 0 0 -0.10127665229686438]\n",
            " [0.0 1.0 3 1 -0.9754341339464734 0 0 -0.5323315701303426]\n",
            " [0.0 1.0 3 1 -0.013763343142133946 0 0 -0.5513937074340443]\n",
            " [0.0 1.0 3 1 -0.6711583106689706 0 0 -0.5475598981576247]\n",
            " [0.0 1.0 2 1 -0.21474457575271647 0 0 -0.10127665229686438]\n",
            " [0.0 0.0 2 1 0.08953124752478632 1 1 0.17231611060569713]\n",
            " [0.0 1.0 1 0 0.2416691591635377 1 0 0.5724991673592141]\n",
            " [0.0 1.0 3 1 0.6980828940797918 0 0 -0.5506677202040089]\n",
            " [0.0 1.0 3 1 0.7741518498991675 0 0 -0.5513937074340443]\n",
            " [1.0 0.0 3 1 -0.013763343142133946 0 0 -0.5550186710689468]\n",
            " [0.0 1.0 3 1 -0.36688248739146784 1 0 -0.305149778539663]\n",
            " [0.0 1.0 3 1 -0.6711583106689706 0 0 -0.5323315701303426]\n",
            " [0.0 1.0 1 1 3.056220524480439 1 1 1.0175392844014208]\n",
            " [0.0 1.0 3 1 -0.7472272664883463 0 0 -0.5475598981576247]\n",
            " [0.0 1.0 1 1 1.154496628996046 0 0 -0.08760223529277421]\n",
            " [0.0 1.0 1 1 -0.013763343142133946 0 0 0.30646960018873287]\n",
            " [0.0 0.0 2 0 -0.5950893548495949 1 2 0.28606239750335616]\n",
            " [0.0 1.0 1 0 -1.2036410014046004 1 2 2.2358055265839982]\n",
            " [0.0 1.0 2 1 0.6980828940797918 0 0 -0.42449014512081346]\n",
            " [0.0 0.0 1 0 -0.013763343142133946 1 0 1.2952741525274032]\n",
            " [0.0 1.0 3 1 -2.0403995154177332 4 2 0.032670477902291425]\n",
            " [0.0 1.0 3 1 1.5348414080929245 0 0 -0.5475598981576247]\n",
            " [0.0 1.0 1 0 -0.013763343142133946 1 0 2.5751796940491447]\n",
            " [0.0 1.0 3 1 -0.013763343142133946 0 0 -0.5658960482312911]\n",
            " [0.0 1.0 2 1 1.2305655848154218 0 0 -0.10127665229686438]\n",
            " [0.0 1.0 3 1 0.4698760266216648 0 0 -0.5613387379824735]\n",
            " [0.0 1.0 1 1 -2.1986229435220346 1 2 3.020219811091352]\n",
            " [0.0 1.0 3 1 -0.013763343142133946 8 2 0.981488548663365]\n",
            " [0.0 1.0 3 1 -0.5950893548495949 0 0 -0.5538799650711516]\n",
            " [0.0 1.0 3 1 3.3604963477579415 0 0 -0.5543971066596698]\n",
            " [0.0 1.0 3 0 -2.0403995154177332 3 1 -0.22372484092439893]\n",
            " [1.0 0.0 3 1 -0.06260666411396507 0 0 -0.5550186710689468]\n",
            " [0.0 1.0 3 0 0.013462291705410624 0 0 -0.4375429977156268]\n",
            " [0.0 1.0 3 1 -0.13867561993334077 0 0 -0.5513937074340443]\n",
            " [0.0 1.0 3 0 -0.8993651781270977 0 0 -0.5543971066596698]\n",
            " [0.0 1.0 2 0 -0.4429514432108435 2 3 -0.28153033098714364]\n",
            " [1.0 0.0 3 0 0.6980828940797918 0 5 -0.023581101137261234]\n",
            " [0.0 0.0 3 1 -0.013763343142133946 0 0 -0.5513937074340443]\n",
            " [0.0 0.0 3 1 0.3938070708022891 0 0 -0.5513937074340443]\n",
            " [0.0 1.0 2 1 -0.36688248739146784 0 0 -0.42449014512081346]\n",
            " [0.0 1.0 3 1 -0.823296222307722 0 0 -0.3871962805642039]\n",
            " [0.0 1.0 1 1 0.4698760266216648 1 2 2.2358055265839982]\n",
            " [0.0 1.0 3 1 1.0023587173572945 0 0 -0.5475598981576247]\n",
            " [0.0 1.0 2 1 0.3177381149829134 0 0 -0.42449014512081346]\n",
            " [0.0 1.0 3 1 0.165600203344162 0 0 -0.5506677202040089]\n",
            " [0.0 1.0 3 0 -0.06260666411396507 1 1 -0.48757893266241115]\n",
            " [1.0 0.0 2 1 2.0673240988285544 0 0 -0.4406508197620109]\n",
            " [0.0 0.0 3 1 0.013462291705410624 0 0 -0.5679671008430016]\n",
            " [0.0 1.0 2 1 -0.013763343142133946 0 0 -0.7477036379447625]\n",
            " [0.0 1.0 2 1 -2.0403995154177332 1 1 -0.10127665229686438]\n",
            " [0.0 1.0 2 1 -0.21474457575271647 0 0 -0.42449014512081346]\n",
            " [0.0 0.0 1 0 1.3827034964541731 1 0 0.23685438634972852]\n",
            " [0.0 1.0 2 1 0.08953124752478632 1 1 -0.09506100820409612]\n",
            " [0.0 0.0 1 1 1.5348414080929245 1 0 1.898296052346682]\n",
            " [0.0 1.0 3 1 -0.9754341339464734 0 0 -0.5705577813008673]\n",
            " [0.0 0.0 3 1 -0.013763343142133946 0 0 -0.5679671008430016]\n",
            " [0.0 1.0 2 1 0.165600203344162 2 0 1.0796957253291035]\n",
            " [0.0 0.0 1 1 0.7741518498991675 0 0 -0.058493130877521934]\n",
            " [0.0 1.0 2 0 1.5348414080929245 0 0 -0.4866465860484959]\n",
            " [0.0 1.0 3 1 0.013462291705410624 0 0 -0.5513937074340443]\n",
            " [0.0 1.0 2 0 -1.279709957223976 0 1 -0.2628833987088389]\n",
            " [0.0 1.0 3 0 0.08953124752478632 0 0 -0.5524279906110809]\n",
            " [0.0 1.0 3 1 -0.013763343142133946 0 0 -0.5323315701303426]\n",
            " [0.0 1.0 2 0 -0.13867561993334077 0 0 -0.42449014512081346]\n",
            " [0.0 0.0 1 1 0.5459449824410405 0 1 -0.009285119723894272]\n",
            " [0.0 0.0 3 0 -1.279709957223976 0 0 -0.5679671008430016]\n",
            " [0.0 0.0 3 0 -0.4429514432108435 0 3 -0.26889268341772726]\n",
            " [0.0 1.0 1 1 1.154496628996046 0 0 -0.08760223529277421]\n",
            " [0.0 0.0 1 0 -0.9754341339464734 1 0 1.959830928865088]\n",
            " [0.0 0.0 3 1 -0.7472272664883463 0 0 -0.647942550255832]\n",
            " [0.0 1.0 3 1 -0.013763343142133946 0 0 -0.5543971066596698]\n",
            " [0.0 1.0 3 1 0.2416691591635377 0 0 -0.5325379295142225]\n",
            " [0.0 0.0 1 0 1.4587724522735488 1 0 1.1599819569465726]\n",
            " [0.0 1.0 2 0 0.013462291705410624 3 0 -0.2255895341522294]\n",
            " [0.0 1.0 3 1 0.013462291705410624 0 0 -0.5475598981576247]\n",
            " [0.0 1.0 1 1 -0.013763343142133946 0 0 -0.10127665229686438]\n",
            " [0.0 1.0 3 1 -0.13867561993334077 1 0 -0.3536318024632554]\n",
            " [0.0 1.0 2 0 1.154496628996046 0 0 -0.41205885693527694]\n",
            " [1.0 0.0 3 1 -0.013763343142133946 0 0 -0.5550186710689468]\n",
            " [0.0 1.0 2 0 0.3177381149829134 0 1 -0.1758643814100834]\n",
            " [0.0 0.0 1 1 1.4587724522735488 1 0 0.6677029447993268]\n",
            " [0.0 1.0 3 1 1.154496628996046 0 0 -0.5742871677565283]\n",
            " [0.0 1.0 3 1 -0.823296222307722 0 0 -0.5543971066596698]\n",
            " [0.0 0.0 1 1 2.14339305464793 0 0 -0.009285119723894272]\n",
            " [0.0 1.0 2 1 0.013462291705410624 0 0 -0.42449014512081346]\n",
            " [0.0 1.0 3 1 -2.0403995154177332 1 1 -0.3523886736447017]\n",
            " [0.0 0.0 3 0 -1.1656065234949127 1 0 -0.38833498656199905]\n",
            " [0.0 1.0 1 1 1.3066345406347974 0 0 -0.11153246504993203]\n",
            " [0.0 0.0 1 0 0.926289761537919 0 0 4.909154050883623]\n",
            " [0.0 1.0 3 0 -0.823296222307722 1 0 -0.5524279906110809]\n",
            " [0.0 0.0 3 1 -0.013763343142133946 0 0 -0.5513937074340443]\n",
            " [0.0 1.0 3 1 -0.8993651781270977 0 0 -0.5475598981576247]\n",
            " [0.0 1.0 2 1 0.4698760266216648 0 0 -0.42449014512081346]\n",
            " [0.0 1.0 3 1 -0.7472272664883463 0 0 -0.5524279906110809]\n",
            " [1.0 0.0 3 1 -0.823296222307722 0 0 -0.5798812474400197]\n",
            " [0.0 1.0 3 1 -0.13867561993334077 0 0 -0.5538799650711516]\n",
            " [0.0 1.0 3 1 -0.8993651781270977 0 0 -0.5538799650711516]\n",
            " [0.0 1.0 3 1 -1.583985780501479 1 1 -0.3523886736447017]\n",
            " [0.0 1.0 2 1 -0.823296222307722 0 0 -0.4866465860484959]\n",
            " [0.0 1.0 3 1 -0.29081353157209217 0 0 -0.5475598981576247]\n",
            " [0.0 1.0 3 0 -1.8882616037789817 4 2 0.032670477902291425]\n",
            " [0.0 1.0 2 0 -0.13867561993334077 0 0 -0.42449014512081346]\n",
            " [0.0 1.0 2 1 0.3177381149829134 1 0 -0.10127665229686438]\n",
            " [0.0 1.0 3 1 0.05149676961509847 0 0 -0.5475598981576247]\n",
            " [0.0 1.0 3 1 1.3066345406347974 0 0 -0.5239404506051054]\n",
            " [0.0 1.0 1 1 0.4698760266216648 0 0 -0.09412866159018085]\n",
            " [0.0 1.0 3 0 1.0023587173572945 1 6 0.4183511938585614]\n",
            " [0.0 0.0 1 0 0.165600203344162 0 0 1.149104579784228]\n",
            " [0.0 0.0 2 1 -0.06260666411396507 1 0 -0.058493130877521934]\n",
            " [0.0 1.0 3 1 -0.21474457575271647 0 0 -0.5742871677565283]\n",
            " [0.0 1.0 1 1 1.6109103639123001 0 0 -0.08760223529277421]\n",
            " [0.0 1.0 2 1 -0.823296222307722 0 0 -0.4866465860484959]\n",
            " [0.0 1.0 3 0 0.08953124752478632 1 0 -0.3001772632654484]\n",
            " [0.0 1.0 3 1 -0.13867561993334077 0 0 0.6569275042001038]\n",
            " [0.0 1.0 3 0 -0.4429514432108435 0 0 -0.5276698370607664]\n",
            " [0.0 1.0 3 0 -1.583985780501479 4 2 0.029873438060545692]\n",
            " [0.0 1.0 2 1 -0.5190203990302192 0 0 -0.4866465860484959]\n",
            " [0.0 0.0 1 0 -1.051503089765849 0 1 0.6938086499889534]\n",
            " [0.0 1.0 2 1 2.2955309662866816 1 1 0.22193684052708468]\n",
            " [0.0 1.0 3 0 0.4698760266216648 1 0 -0.31509480908809223]\n",
            " [0.0 1.0 3 1 2.2194620104673057 0 0 -0.5674499592544832]\n",
            " [1.0 0.0 3 1 -0.013763343142133946 1 0 -0.5550186710689468]\n",
            " [0.0 1.0 3 1 1.154496628996046 0 0 -0.5475598981576247]\n",
            " [0.0 1.0 2 0 -0.13867561993334077 1 0 -0.10127665229686438]\n",
            " [0.0 0.0 1 0 -0.4429514432108435 0 0 0.4830983152441097]\n",
            " [1.0 0.0 3 1 3.0942550023901263 0 0 -0.5550186710689468]\n",
            " [0.0 1.0 3 1 -0.013763343142133946 8 2 0.981488548663365]\n",
            " [0.0 1.0 2 1 -0.13867561993334077 0 0 -0.4866465860484959]\n",
            " [0.0 1.0 3 0 -0.7472272664883463 1 0 -0.5034288250989702]\n",
            " [0.0 0.0 3 1 -0.013763343142133946 0 0 -0.5679671008430016]\n",
            " [0.0 1.0 3 0 -0.6711583106689706 0 0 -0.557504928706054]\n",
            " [0.0 1.0 3 1 0.3938070708022891 0 0 -0.5724224745286978]\n",
            " [0.0 0.0 1 0 2.2955309662866816 1 0 1.1232052339784813]\n",
            " [0.0 1.0 3 1 -0.36688248739146784 1 0 -0.5543971066596698]\n",
            " [0.0 0.0 3 1 -1.1275720455852247 1 1 -0.5679671008430016]\n",
            " [0.0 1.0 3 1 -0.29081353157209217 0 0 -0.5513937074340443]\n",
            " [0.0 1.0 3 1 -0.013763343142133946 0 0 -0.5674499592544832]\n",
            " [0.0 1.0 2 1 -2.2176401824768783 1 1 -0.3871962805642039]\n",
            " [0.0 1.0 3 1 -0.29081353157209217 1 0 -0.5524279906110809]\n",
            " [0.0 1.0 2 1 -2.0403995154177332 1 1 -0.28153033098714364]\n",
            " [0.0 1.0 3 1 0.3177381149829134 0 0 -0.5475598981576247]\n",
            " [0.0 1.0 3 1 -1.583985780501479 0 2 -0.23739925792848912]\n",
            " [0.0 1.0 2 0 0.08953124752478632 1 1 -0.09506100820409612]\n",
            " [0.0 1.0 3 1 0.2416691591635377 0 0 -0.5543971066596698]\n",
            " [0.0 1.0 2 1 -0.5190203990302192 0 0 -0.42449014512081346]\n",
            " [0.0 1.0 2 0 -0.9754341339464734 0 0 -0.4866465860484959]\n",
            " [0.0 0.0 3 1 -0.21474457575271647 1 0 -0.38833498656199905]\n",
            " [0.0 0.0 3 1 -0.4809859211205314 0 0 -0.5679671008430016]\n",
            " [0.0 1.0 3 0 -1.051503089765849 5 2 0.4183511938585614]\n",
            " [0.0 1.0 3 1 0.3938070708022891 0 0 -0.5705577813008673]\n",
            " [0.0 1.0 3 1 -2.1164684712371087 4 1 0.23902986178219737]\n",
            " [1.0 0.0 3 0 0.05149676961509847 0 0 -0.5550186710689468]\n",
            " [0.0 1.0 1 0 0.6980828940797918 1 0 0.6421143811982184]\n",
            " [0.0 0.0 3 0 -0.013763343142133946 1 1 -0.19181869666740095]\n",
            " [0.0 1.0 3 1 -1.051503089765849 1 1 -0.24423646643053415]\n",
            " [0.0 0.0 1 0 0.6220139382604162 1 0 1.024582852287346]\n",
            " [0.0 1.0 2 1 1.8391172313704272 0 0 -0.10127665229686438]\n",
            " [0.0 1.0 1 0 0.4698760266216648 0 2 1.0175392844014208]\n",
            " [0.0 0.0 1 0 0.013462291705410624 0 0 0.6677029447993268]\n",
            " [1.0 0.0 3 1 -0.013763343142133946 0 0 -0.5771886304190325]\n",
            " [0.0 1.0 3 0 -2.1925374270564846 1 1 -0.4709011164326954]\n",
            " [0.0 1.0 2 1 0.013462291705410624 0 0 -0.42449014512081346]\n",
            " [0.0 1.0 2 1 3.056220524480439 0 0 -0.4866465860484959]\n",
            " [0.0 1.0 3 1 0.3177381149829134 0 0 -0.5475598981576247]\n",
            " [0.0 1.0 3 1 0.165600203344162 0 0 -0.5397903430416645]\n",
            " [0.0 1.0 3 1 -0.8993651781270977 1 1 -0.24516881304444943]\n",
            " [0.0 1.0 2 0 -0.4429514432108435 1 0 -0.10127665229686438]\n",
            " [0.0 0.0 1 1 -0.21474457575271647 0 2 4.510731264537178]\n",
            " [1.0 0.0 3 1 0.8121863278088554 0 0 -0.5550186710689468]\n",
            " [0.0 1.0 3 1 -0.4429514432108435 0 0 -0.5115091624195689]\n",
            " [0.0 1.0 2 1 0.08953124752478632 0 0 -0.4866465860484959]\n",
            " [0.0 1.0 3 1 -0.013763343142133946 0 0 -0.5513937074340443]\n",
            " [0.0 1.0 1 0 -0.5950893548495949 1 0 0.9081439483686996]\n",
            " [1.0 0.0 3 1 0.165600203344162 0 0 -0.5550186710689468]\n",
            " [0.0 0.0 1 1 -0.013763343142133946 0 0 4.909154050883623]\n",
            " [0.0 1.0 2 1 1.6869793197316758 0 0 -0.42449014512081346]\n",
            " [0.0 1.0 3 1 -0.013763343142133946 0 0 -0.5513937074340443]\n",
            " [0.0 1.0 2 1 -0.8993651781270977 0 0 -0.46178400967742295]\n",
            " [0.0 1.0 1 1 -0.013763343142133946 0 0 4.766298659570712]\n",
            " [0.0 1.0 1 0 0.4698760266216648 1 2 2.2358055265839982]\n",
            " [0.0 1.0 3 1 0.2416691591635377 0 0 -0.5513937074340443]\n",
            " [0.0 1.0 3 1 -0.4429514432108435 1 0 -0.34741615837048706]\n",
            " [0.0 0.0 1 1 0.7741518498991675 0 0 0.02303622955850065]\n",
            " [0.0 1.0 3 1 -0.7472272664883463 0 0 -0.5115091624195689]\n",
            " [0.0 1.0 3 0 1.3066345406347974 1 0 -0.3871962805642039]\n",
            " [0.0 0.0 3 0 -2.1925374270564846 0 2 -0.3563244194842426]\n",
            " [0.0 1.0 3 1 -0.8993651781270977 1 1 -0.5524279906110809]\n",
            " [0.0 1.0 3 0 0.013462291705410624 0 0 -0.5323315701303426]\n",
            " [0.0 1.0 3 1 -0.36688248739146784 0 0 -0.7477036379447625]\n",
            " [0.0 1.0 3 1 -0.6711583106689706 0 0 -0.5543971066596698]\n",
            " [0.0 1.0 1 1 3.8169100826741955 0 0 -0.0018263468125723542]\n",
            " [0.0 1.0 1 1 1.8391172313704272 0 1 1.1738627333345424]\n",
            " [0.0 0.0 1 1 -0.4429514432108435 0 0 1.2214124106442197]\n",
            " [0.0 1.0 3 1 -0.6711583106689706 0 0 -0.553775542250393]\n",
            " [0.0 1.0 3 0 1.154496628996046 0 0 -0.5550186710689468]\n",
            " [0.0 1.0 3 0 -0.013763343142133946 8 2 0.981488548663365]\n",
            " [0.0 1.0 2 1 -0.36688248739146784 0 0 -0.42449014512081346]\n",
            " [0.0 1.0 1 0 0.013462291705410624 0 0 1.4029092181530525]\n",
            " [0.0 1.0 2 1 -2.1925374270564846 2 1 0.22193684052708468]\n",
            " [1.0 0.0 3 1 -0.013763343142133946 2 0 -0.16964873731731514]\n",
            " [0.0 1.0 2 1 -0.013763343142133946 0 0 -0.7477036379447625]\n",
            " [1.0 0.0 3 0 -0.013763343142133946 1 0 -0.36233370419313093]\n",
            " [0.0 1.0 3 1 -0.06260666411396507 0 0 -0.5543971066596698]\n",
            " [0.0 1.0 2 0 0.4698760266216648 0 0 -0.42449014512081346]\n",
            " [1.0 0.0 3 1 -0.013763343142133946 0 0 -0.5550186710689468]\n",
            " [0.0 1.0 2 1 -0.013763343142133946 0 0 -0.7477036379447625]\n",
            " [0.0 1.0 3 1 -2.1925374270564846 4 1 0.23902986178219737]\n",
            " [0.0 1.0 1 1 -0.013763343142133946 0 0 -0.10314134552469482]\n",
            " [0.0 1.0 3 1 -0.21474457575271647 0 0 -0.5538799650711516]\n",
            " [0.0 0.0 3 1 -0.29081353157209217 0 0 -0.28059798437322836]\n",
            " [1.0 0.0 3 0 -0.6711583106689706 0 0 -0.5550186710689468]\n",
            " [0.0 1.0 3 1 0.4698760266216648 0 0 -0.5513937074340443]\n",
            " [0.0 0.0 1 0 0.4698760266216648 0 0 2.6244896417658934]\n",
            " [0.0 1.0 3 1 -1.051503089765849 0 0 -0.5543971066596698]\n",
            " [0.0 1.0 3 0 0.08953124752478632 0 0 -0.5318144285418243]\n",
            " [0.0 1.0 2 0 0.3177381149829134 0 0 -0.42449014512081346]\n",
            " [0.0 1.0 3 1 -0.5950893548495949 0 0 -0.5239404506051054]\n",
            " [0.0 1.0 1 1 -0.06260666411396507 0 0 -0.0018263468125723542]\n",
            " [0.0 1.0 3 1 0.08953124752478632 0 0 -0.5543971066596698]\n",
            " [0.0 1.0 2 0 -0.36688248739146784 0 1 -0.10127665229686438]\n",
            " [0.0 1.0 1 0 0.3938070708022891 1 0 1.3276999246305565]\n",
            " [0.0 1.0 3 1 -1.2036410014046004 4 1 0.23902986178219737]\n",
            " [0.0 1.0 3 1 -0.013763343142133946 0 0 -0.5513937074340443]\n",
            " [0.0 0.0 1 0 -0.823296222307722 1 0 1.51675992787147]\n",
            " [0.0 1.0 1 1 -1.9643305595983573 0 2 1.287504597411443]\n",
            " [0.0 1.0 3 1 -0.013763343142133946 8 2 0.981488548663365]\n",
            " [0.0 1.0 2 0 -0.06260666411396507 1 0 -0.10127665229686438]\n",
            " [0.0 1.0 3 1 -0.13867561993334077 2 0 -0.5506677202040089]\n",
            " [0.0 1.0 2 1 -0.6711583106689706 1 0 -0.46178400967742295]\n",
            " [0.0 0.0 1 1 -0.29081353157209217 0 0 -0.0018263468125723542]\n",
            " [0.0 1.0 1 1 2.447668877925433 0 0 -0.08760223529277421]\n",
            " [0.0 1.0 3 1 -0.9754341339464734 0 0 -0.5323315701303426]\n",
            " [0.0 1.0 2 1 0.3177381149829134 1 0 -0.2255895341522294]\n",
            " [0.0 1.0 2 0 0.8502208057185432 0 1 -0.2628833987088389]\n",
            " [1.0 0.0 3 0 -0.823296222307722 0 0 -0.5518064262018041]\n",
            " [0.0 0.0 3 0 -0.9754341339464734 0 0 -0.3882330499988777]\n",
            " [0.0 1.0 3 0 -1.6600547363208547 3 1 -0.22372484092439893]\n",
            " [0.0 1.0 3 1 -0.5950893548495949 0 0 -0.5674499592544832]\n",
            " [0.0 1.0 1 1 0.926289761537919 1 0 0.5589291731758824]\n",
            " [0.0 1.0 1 1 2.371599922106057 0 0 0.08519267048618316]\n",
            " [0.0 1.0 3 1 1.3066345406347974 0 0 -0.5674499592544832]\n",
            " [0.0 1.0 1 1 0.08953124752478632 0 0 0.5077520459736659]\n",
            " [0.0 1.0 3 1 1.4587724522735488 0 0 -0.7477036379447625]\n",
            " [0.0 1.0 3 1 -0.5950893548495949 0 0 -0.5513937074340443]\n",
            " [1.0 0.0 3 0 -0.013763343142133946 0 0 -0.5550186710689468]\n",
            " [1.0 0.0 3 0 -0.013763343142133946 1 0 -0.36233370419313093]\n",
            " [0.0 1.0 1 1 1.3066345406347974 0 0 0.5451503333510338]\n",
            " [0.0 1.0 1 1 0.5459449824410405 1 0 0.5724991673592141]\n",
            " [0.0 1.0 1 1 1.1925311069057338 0 0 -0.03912021136918186]\n",
            " [0.0 1.0 3 1 -0.013763343142133946 0 0 -0.5513937074340443]\n",
            " [1.0 0.0 3 0 -0.013763343142133946 0 0 -0.5518064262018041]\n",
            " [0.0 1.0 2 1 0.926289761537919 0 0 -0.42449014512081346]\n",
            " [0.0 1.0 1 1 -0.013763343142133946 0 0 0.13491782322832918]\n",
            " [0.0 1.0 3 1 -1.9643305595983573 1 1 -0.4709011164326954]\n",
            " [0.0 1.0 3 1 -0.36688248739146784 0 0 -0.5724224745286978]\n",
            " [0.0 0.0 3 1 -2.236657421431722 0 1 -0.535956533765245]\n",
            " [0.0 0.0 3 1 -0.013763343142133946 2 0 -0.20870287228099657]\n",
            " [0.0 1.0 1 1 0.6980828940797918 0 0 -0.7477036379447625]\n",
            " [0.0 1.0 1 1 0.2416691591635377 0 0 -0.6233907560893974]\n",
            " [0.0 1.0 3 1 -0.013763343142133946 0 0 0.6569275042001038]\n",
            " [0.0 1.0 2 0 -0.823296222307722 1 0 -0.10127665229686438]\n",
            " [0.0 1.0 3 1 -0.5950893548495949 0 0 -0.5607171735731966]\n",
            " [0.0 1.0 3 1 0.2416691591635377 1 1 -0.23739925792848912]\n",
            " [0.0 0.0 1 1 -0.013763343142133946 0 0 -0.058493130877521934]\n",
            " [0.0 1.0 3 1 1.0784276731766704 0 0 -0.5506677202040089]\n",
            " [0.0 1.0 2 1 -0.8993651781270977 0 0 1.0796957253291035]\n",
            " [0.0 1.0 2 1 -1.051503089765849 0 0 -0.10127665229686438]\n",
            " [0.0 1.0 2 0 -0.5950893548495949 1 1 -0.02668892318364536]\n",
            " [0.0 0.0 1 1 0.013462291705410624 0 0 -0.05776714364748661]\n",
            " [0.0 1.0 3 1 -2.1925374270564846 1 2 -0.23615612910993544]\n",
            " [0.0 1.0 3 0 -0.013763343142133946 0 0 -0.5599911863431613]\n",
            " [1.0 0.0 3 0 0.165600203344162 1 1 -0.36233370419313093]\n",
            " [0.0 1.0 1 0 0.6980828940797918 1 1 1.2326005700112026]\n",
            " [0.0 1.0 2 1 1.3827034964541731 0 0 -0.42449014512081346]\n",
            " [0.0 1.0 3 1 -0.013763343142133946 0 0 -0.5674499592544832]\n",
            " [0.0 1.0 3 1 -0.013763343142133946 1 2 -0.16467622204310056]\n",
            " [0.0 1.0 3 1 -0.013763343142133946 0 0 -0.5475598981576247]\n",
            " [0.0 1.0 3 0 -0.8993651781270977 0 0 -0.5613387379824735]\n",
            " [0.0 1.0 1 1 0.08953124752478632 1 0 0.6694632152063987]\n",
            " [0.0 1.0 3 1 -1.051503089765849 0 0 -0.5475598981576247]\n",
            " [0.0 0.0 3 1 -0.013763343142133946 0 0 -0.5680715236637601]\n",
            " [0.0 1.0 1 0 -2.1164684712371087 1 2 3.020219811091352]\n",
            " [0.0 1.0 2 1 0.3177381149829134 0 0 -0.42449014512081346]\n",
            " [1.0 0.0 3 1 -0.6711583106689706 0 0 -0.5554338760943436]\n",
            " [0.0 1.0 3 1 2.371599922106057 0 0 -0.5926233178301946]\n",
            " [0.0 1.0 3 1 -0.13867561993334077 0 0 -0.5115091624195689]\n",
            " [0.0 1.0 3 1 -0.013763343142133946 1 0 -0.2512800343164591]\n",
            " [0.0 1.0 3 1 -1.051503089765849 0 0 -0.518552730305494]\n",
            " [0.0 0.0 1 0 0.013462291705410624 0 0 1.898296052346682]\n",
            " [1.0 0.0 3 0 -0.013763343142133946 0 0 -0.5554338760943436]\n",
            " [0.0 0.0 1 1 1.9912551430091787 0 0 0.13491782322832918]\n",
            " [1.0 0.0 3 1 -0.013763343142133946 0 0 -0.5554338760943436]\n",
            " [0.0 1.0 2 1 0.013462291705410624 0 0 -0.42449014512081346]\n",
            " [0.0 1.0 3 1 0.8502208057185432 2 0 -0.3969349517287532]\n",
            " [0.0 0.0 1 0 0.6980828940797918 1 1 1.3198259466938378]\n",
            " [0.0 1.0 1 1 0.6220139382604162 0 0 -0.7477036379447625]\n",
            " [0.0 1.0 2 0 0.2416691591635377 0 2 -0.10127665229686438]\n",
            " [0.0 1.0 3 1 -0.9754341339464734 1 0 -0.5723180517079394]\n",
            " [0.0 1.0 2 1 2.2194620104673057 0 0 -0.41205885693527694]\n",
            " [0.0 1.0 3 1 1.6109103639123001 0 0 -0.5550186710689468]\n",
            " [0.0 1.0 3 1 0.165600203344162 0 0 -0.5524279906110809]\n",
            " [0.0 1.0 1 0 0.08953124752478632 0 2 3.3513072818520193]\n",
            " [0.0 1.0 3 0 -1.9643305595983573 0 2 -0.2001053933718796]\n",
            " [0.0 1.0 3 1 0.8502208057185432 0 0 -0.5705577813008673]\n",
            " [0.0 1.0 1 0 0.2416691591635377 0 0 1.4029092181530525]\n",
            " [0.0 1.0 1 1 2.2955309662866816 0 0 -0.08760223529277421]\n",
            " [0.0 1.0 3 0 0.6980828940797918 1 5 0.029873438060545692]\n",
            " [0.0 1.0 1 0 -0.6711583106689706 0 0 1.190540549564258]\n",
            " [0.0 1.0 1 0 0.3938070708022891 1 0 1.489928235451808]\n",
            " [0.0 1.0 3 0 0.3938070708022891 1 1 -0.24423646643053415]\n",
            " [0.0 1.0 3 1 1.6109103639123001 0 0 -0.5723180517079394]\n",
            " [0.0 1.0 2 1 0.3938070708022891 0 0 -0.10127665229686438]\n",
            " [1.0 0.0 3 1 -1.9643305595983573 4 1 -0.023581101137261234]\n",
            " [0.0 1.0 3 0 -0.6711583106689706 1 0 -0.5034288250989702]\n",
            " [1.0 0.0 3 1 -0.013763343142133946 0 0 -0.5749087321658052]\n",
            " [0.0 1.0 3 0 -0.06260666411396507 0 4 -0.22372484092439893]\n",
            " [0.0 0.0 1 0 1.5348414080929245 0 0 -0.03383691389032888]\n",
            " [0.0 1.0 3 0 0.08953124752478632 1 1 -0.23739925792848912]\n",
            " [0.0 1.0 1 1 0.926289761537919 0 0 -0.09412866159018085]\n",
            " [0.0 1.0 2 0 -0.4429514432108435 0 0 -0.42449014512081346]\n",
            " [0.0 1.0 3 1 0.6220139382604162 0 0 -0.5323315701303426]\n",
            " [0.0 1.0 1 1 -0.823296222307722 1 0 0.5724991673592141]\n",
            " [0.0 1.0 2 1 1.6869793197316758 0 0 -0.41205885693527694]\n",
            " [0.0 1.0 3 1 -0.36688248739146784 1 0 -0.5543971066596698]\n",
            " [0.0 1.0 3 1 0.3177381149829134 1 1 -0.3896825382013112]\n",
            " [0.0 1.0 2 1 -0.5190203990302192 0 0 -0.42449014512081346]\n",
            " [0.0 0.0 1 1 3.1322894802998142 0 0 0.4830983152441097]\n",
            " [0.0 1.0 3 1 -0.7472272664883463 0 0 -0.5724224745286978]\n",
            " [0.0 1.0 1 1 1.154496628996046 0 0 0.13491782322832918]\n",
            " [0.0 1.0 2 1 -0.8993651781270977 0 0 -0.46178400967742295]\n",
            " [0.0 1.0 3 1 -0.013763343142133946 1 0 -0.2512800343164591]\n",
            " [1.0 0.0 3 0 -0.013763343142133946 0 0 -0.5550186710689468]\n",
            " [0.0 1.0 1 1 -0.21474457575271647 0 0 0.010604941372964149]\n",
            " [0.0 0.0 1 0 1.0784276731766704 0 0 -0.058493130877521934]\n",
            " [0.0 1.0 3 0 -0.5950893548495949 0 0 -0.5550186710689468]\n",
            " [0.0 1.0 2 0 -0.8993651781270977 0 2 -0.42449014512081346]\n",
            " [0.0 0.0 3 1 0.7741518498991675 0 0 -0.5680715236637601]\n",
            " [0.0 1.0 3 1 -0.06260666411396507 1 0 -0.5725268973494563]\n",
            " [0.0 1.0 3 1 -0.823296222307722 0 0 -0.557504928706054]\n",
            " [0.0 1.0 3 1 0.8121863278088554 0 2 -0.3871962805642039]\n",
            " [0.0 1.0 2 1 0.3177381149829134 0 0 -0.42449014512081346]\n",
            " [0.0 1.0 3 0 -1.9643305595983573 1 1 -0.33249861254784335]\n",
            " [0.0 1.0 1 1 -0.013763343142133946 0 0 0.02303622955850065]\n",
            " [0.0 0.0 1 1 -0.5190203990302192 0 1 0.8275469345465923]\n",
            " [0.0 1.0 2 0 0.3938070708022891 0 0 -0.2255895341522294]\n",
            " [0.0 0.0 1 0 1.9912551430091787 0 1 1.3198259466938378]\n",
            " [0.0 1.0 3 1 -0.5190203990302192 0 0 -0.5513937074340443]\n",
            " [0.0 1.0 2 1 2.447668877925433 0 0 -0.4866465860484959]\n",
            " [0.0 1.0 2 1 -1.6600547363208547 1 1 0.16599604369217041]\n",
            " [0.0 0.0 3 1 0.35577259289260127 0 0 -0.58765080255598]\n",
            " [0.0 0.0 3 0 -0.013763343142133946 0 2 -0.19181869666740095]\n",
            " [0.0 1.0 3 1 -0.8993651781270977 0 0 -0.5413442540648565]\n",
            " [0.0 1.0 3 1 -1.051503089765849 2 0 -0.3001772632654484]\n",
            " [0.0 1.0 3 1 -0.013763343142133946 0 0 -0.5513937074340443]\n",
            " [0.0 1.0 3 1 -0.06260666411396507 0 0 -0.5119243674449658]\n",
            " [0.0 1.0 2 1 -2.2054691495457783 0 2 -0.02668892318364536]\n",
            " [1.0 0.0 3 0 -0.013763343142133946 0 0 -0.5550186710689468]\n",
            " [0.0 1.0 2 1 -0.21474457575271647 0 0 -0.42449014512081346]\n",
            " [0.0 1.0 2 1 1.6109103639123001 0 0 -0.43629986889707306]\n",
            " [0.0 1.0 3 1 -0.5190203990302192 0 0 -0.5524279906110809]\n",
            " [0.0 1.0 1 1 1.3066345406347974 0 0 0.09814110026023802]\n",
            " [0.0 1.0 3 1 -0.7472272664883463 0 0 -0.5506677202040089]\n",
            " [0.0 1.0 3 1 -0.013763343142133946 0 0 -0.5674499592544832]\n",
            " [0.0 1.0 3 1 -0.4429514432108435 2 0 -0.14727241858334947]\n",
            " [0.0 1.0 3 1 -0.8993651781270977 0 0 -0.5550186710689468]\n",
            " [0.0 1.0 1 1 1.3066345406347974 0 0 0.2095055523415482]\n",
            " [0.0 1.0 3 0 0.8502208057185432 0 2 -0.24516881304444943]\n",
            " [0.0 1.0 2 0 2.0673240988285544 0 0 -0.4866465860484959]\n",
            " [0.0 0.0 1 1 -0.36688248739146784 1 0 0.6307198624473557]\n",
            " [1.0 0.0 2 0 0.013462291705410624 0 0 -0.4406508197620109]\n",
            " [0.0 1.0 3 1 1.0784276731766704 0 0 -0.5475598981576247]\n",
            " [0.0 1.0 3 1 1.9532206650994908 0 0 -0.5475598981576247]\n",
            " [0.0 1.0 3 1 -0.36688248739146784 0 0 -0.5724224745286978]\n",
            " [1.0 0.0 2 0 -0.013763343142133946 0 0 -0.4406508197620109]\n",
            " [0.0 1.0 2 1 -0.823296222307722 0 0 -0.42449014512081346]\n",
            " [0.0 0.0 1 1 2.2955309662866816 1 1 1.2214124106442197]\n",
            " [0.0 1.0 3 1 0.926289761537919 0 0 -0.5323315701303426]\n",
            " [0.0 0.0 3 1 0.013462291705410624 0 0 -0.5680715236637601]\n",
            " [0.0 1.0 3 1 -0.36688248739146784 0 0 -0.5513937074340443]\n",
            " [0.0 1.0 1 0 -0.5190203990302192 3 2 5.791153947647437]\n",
            " [0.0 1.0 3 1 0.2416691591635377 0 0 -0.5115091624195689]\n",
            " [0.0 1.0 3 1 -0.013763343142133946 0 0 -0.5513937074340443]\n",
            " [0.0 1.0 3 1 0.6980828940797918 0 0 -0.14727241858334947]\n",
            " [0.0 1.0 1 0 1.0023587173572945 0 1 4.506691095876879]\n",
            " [0.0 1.0 3 0 -1.5079168246821033 0 2 -0.14727241858334947]\n",
            " [1.0 0.0 3 0 -0.5950893548495949 0 0 -0.5550186710689468]\n",
            " [0.0 1.0 3 0 -0.5190203990302192 0 0 -0.5599911863431613]\n",
            " [0.0 1.0 3 0 1.154496628996046 1 4 -0.0540377571918257]\n",
            " [0.0 1.0 2 0 -0.013763343142133946 0 0 0.07276138230064666]\n",
            " [0.0 1.0 3 1 0.165600203344162 0 0 0.6569275042001038]\n",
            " [1.0 0.0 3 0 -1.051503089765849 0 0 -0.5554338760943436]\n",
            " [0.0 1.0 2 0 0.6220139382604162 0 0 -0.42449014512081346]\n",
            " [0.0 1.0 3 1 0.165600203344162 0 0 -0.5506677202040089]\n",
            " [1.0 0.0 3 1 2.67587574538356 0 0 -0.5550186710689468]\n",
            " [0.0 1.0 3 1 -0.4429514432108435 0 0 -0.5701425762754704]\n",
            " [0.0 1.0 1 0 -0.5950893548495949 0 0 3.020219811091352]\n",
            " [1.0 0.0 3 1 -0.013763343142133946 0 0 -0.5553294532735851]\n",
            " [1.0 0.0 3 0 -1.1275720455852247 0 0 -0.5480770397461432]\n",
            " [0.0 1.0 3 0 -0.29081353157209217 1 0 -0.34741615837048706]\n",
            " [0.0 1.0 2 1 -0.36688248739146784 0 0 -0.42449014512081346]\n",
            " [0.0 1.0 3 1 -0.823296222307722 0 0 -0.5475598981576247]\n",
            " [0.0 1.0 2 0 0.2416691591635377 1 2 -0.05776714364748661]\n",
            " [0.0 1.0 3 1 -0.013763343142133946 0 0 -0.5513937074340443]\n",
            " [1.0 0.0 3 0 -0.013763343142133946 0 0 -0.5550186710689468]\n",
            " [0.0 1.0 3 0 0.6220139382604162 1 5 0.032670477902291425]\n",
            " [0.0 1.0 3 1 0.926289761537919 0 1 -0.5387535736069907]\n",
            " [0.0 0.0 3 1 -0.013763343142133946 1 1 -0.3686537711066577]\n",
            " [0.0 1.0 2 0 1.915186187189803 0 0 -0.3499024160075944]\n",
            " [0.0 1.0 1 1 1.9912551430091787 0 0 -0.08760223529277421]\n",
            " [0.0 1.0 1 1 -0.013763343142133946 0 0 0.010604941372964149]\n",
            " [0.0 0.0 3 1 -0.7472272664883463 1 1 -0.3563244194842426]\n",
            " [0.0 0.0 1 0 0.8502208057185432 0 0 2.596312883964557]\n",
            " [0.0 1.0 3 1 -0.21474457575271647 0 0 -0.5323315701303426]\n",
            " [0.0 0.0 3 1 -0.013763343142133946 0 0 -0.5680715236637601]\n",
            " [0.0 1.0 3 1 -0.013763343142133946 0 0 -0.5475598981576247]\n",
            " [0.0 0.0 2 0 -2.0403995154177332 1 2 0.28606239750335616]\n",
            " [0.0 1.0 1 0 -0.36688248739146784 1 2 3.020219811091352]\n",
            " [0.0 0.0 1 1 -0.013763343142133946 0 0 0.015473033826420204]\n",
            " [0.0 1.0 2 0 0.3177381149829134 0 0 -0.4866465860484959]\n",
            " [0.0 1.0 2 0 1.0784276731766704 1 0 -0.10127665229686438]\n",
            " [0.0 1.0 2 1 -0.13867561993334077 0 0 -0.41205885693527694]\n",
            " [0.0 0.0 3 1 -0.06260666411396507 0 0 -0.5513937074340443]\n",
            " [1.0 0.0 3 1 -0.013763343142133946 0 0 -0.5555358126574651]\n",
            " [0.0 1.0 2 1 -0.6711583106689706 0 0 1.0796957253291035]\n",
            " [0.0 1.0 2 1 0.165600203344162 1 0 -0.10127665229686438]\n",
            " [0.0 1.0 1 0 -0.013763343142133946 1 0 0.5417317291000111]\n",
            " [0.0 1.0 3 0 -1.583985780501479 3 2 -0.0540377571918257]\n",
            " [0.0 1.0 2 0 0.926289761537919 1 0 -0.10127665229686438]\n",
            " [0.0 1.0 3 1 -0.29081353157209217 0 0 -0.5513937074340443]\n",
            " [1.0 0.0 3 0 -0.8993651781270977 0 0 -0.5798812474400197]\n",
            " [0.0 1.0 3 0 -0.36688248739146784 1 0 -0.5506677202040089]\n",
            " [0.0 1.0 2 1 0.4698760266216648 0 0 -0.4866465860484959]\n",
            " [0.0 1.0 3 1 -0.4429514432108435 0 0 -0.5724224745286978]\n",
            " [0.0 1.0 2 1 1.8391172313704272 0 0 -0.3996275687497404]\n",
            " [0.0 1.0 3 1 -0.4429514432108435 0 0 -0.5613387379824735]\n",
            " [0.0 1.0 2 1 1.0023587173572945 1 1 -0.09506100820409612]\n",
            " [0.0 1.0 2 0 -1.7361236921402303 0 2 -0.09506100820409612]\n",
            " [0.0 1.0 2 1 -2.2054691495457783 1 1 -0.28153033098714364]\n",
            " [0.0 1.0 3 1 -0.5950893548495949 0 0 -0.5674499592544832]\n",
            " [0.0 1.0 3 1 -2.1164684712371087 3 1 -0.22372484092439893]\n",
            " [0.0 1.0 3 0 -0.4429514432108435 0 2 -0.33249861254784335]\n",
            " [0.0 1.0 3 0 -0.4429514432108435 1 0 -0.3536318024632554]\n",
            " [0.0 1.0 3 1 -0.013763343142133946 0 0 -0.5475598981576247]\n",
            " [0.0 1.0 3 0 -2.1164684712371087 0 1 -0.442204730785203]\n",
            " [0.0 1.0 1 0 -1.051503089765849 0 0 1.4029092181530525]\n",
            " [0.0 1.0 2 0 1.3827034964541731 1 2 0.8683638261749829]\n",
            " [0.0 1.0 3 0 -0.21474457575271647 0 0 -0.5506677202040089]\n",
            " [0.0 0.0 1 0 0.6980828940797918 1 1 2.009140876581837]\n",
            " [0.0 1.0 3 1 -0.013763343142133946 0 0 -0.5475598981576247]\n",
            " [0.0 1.0 2 0 -0.13867561993334077 0 0 -0.4331920468506889]\n",
            " [0.0 1.0 1 0 -0.013763343142133946 1 0 0.5451503333510338]\n",
            " [0.0 1.0 3 1 -0.6711583106689706 0 0 -0.5674499592544832]\n",
            " [0.0 1.0 3 1 0.013462291705410624 1 0 -0.34741615837048706]\n",
            " [0.0 0.0 3 0 -2.2115546660113283 2 1 -0.26889268341772726]\n",
            " [1.0 0.0 3 0 -0.013763343142133946 0 0 -0.5518064262018041]\n",
            " [0.0 0.0 3 0 -0.06260666411396507 0 2 -0.3686537711066577]\n",
            " [0.0 1.0 2 1 -0.013763343142133946 0 0 -0.7477036379447625]\n",
            " [0.0 1.0 3 1 0.4698760266216648 0 0 -0.7477036379447625]\n",
            " [0.0 1.0 3 1 -1.051503089765849 0 0 -0.5115091624195689]\n",
            " [0.0 1.0 3 1 -0.6711583106689706 0 0 -0.5538799650711516]\n",
            " [0.0 1.0 3 1 -0.29081353157209217 0 0 0.6569275042001038]\n",
            " [0.0 1.0 2 0 -1.9643305595983573 1 1 -0.1758643814100834]\n",
            " [0.0 0.0 3 1 -0.013763343142133946 0 0 -0.5310884413117889]\n",
            " [0.0 0.0 3 1 0.2416691591635377 0 0 -0.5513937074340443]\n",
            " [0.0 1.0 2 1 -0.823296222307722 1 1 0.16599604369217041]\n",
            " [0.0 0.0 1 0 -0.013763343142133946 1 0 1.4676563395386009]\n",
            " [0.0 1.0 3 1 -0.823296222307722 0 0 -0.5513937074340443]\n",
            " [0.0 0.0 1 0 0.6220139382604162 0 0 4.909154050883623]\n",
            " [1.0 0.0 3 1 -0.013763343142133946 1 0 -0.14727241858334947]\n",
            " [0.0 0.0 3 1 -0.29081353157209217 1 0 -0.38833498656199905]\n",
            " [0.0 1.0 2 1 1.0784276731766704 1 0 -0.10127665229686438]\n",
            " [0.0 1.0 3 1 -0.6711583106689706 0 0 -0.5475598981576247]]\n"
          ]
        }
      ]
    },
    {
      "cell_type": "markdown",
      "source": [
        "# Model Selection"
      ],
      "metadata": {
        "id": "qJ7_RGp1cpcL"
      }
    },
    {
      "cell_type": "code",
      "source": [
        "print(x_train)"
      ],
      "metadata": {
        "colab": {
          "base_uri": "https://localhost:8080/"
        },
        "id": "1KFqsOt2t5CX",
        "outputId": "029eea24-e498-4b54-fac0-a8bcc4e7c923"
      },
      "execution_count": null,
      "outputs": [
        {
          "output_type": "stream",
          "name": "stdout",
          "text": [
            "[[0.0 1.0 3 ... 0 0 -0.5475598981576247]\n",
            " [0.0 1.0 3 ... 0 0 -0.4948313461898532]\n",
            " [1.0 0.0 3 ... 0 0 -0.5550186710689468]\n",
            " ...\n",
            " [0.0 0.0 3 ... 1 0 -0.38833498656199905]\n",
            " [0.0 1.0 2 ... 1 0 -0.10127665229686439]\n",
            " [0.0 1.0 3 ... 0 0 -0.5475598981576247]]\n"
          ]
        }
      ]
    },
    {
      "cell_type": "code",
      "source": [
        "y_train=y_train.astype('int')"
      ],
      "metadata": {
        "id": "bg6bFlEZRZMv"
      },
      "execution_count": null,
      "outputs": []
    },
    {
      "cell_type": "code",
      "source": [
        "y_test=y_test.astype('int')"
      ],
      "metadata": {
        "id": "xMPC3tVjR9Yj"
      },
      "execution_count": null,
      "outputs": []
    },
    {
      "cell_type": "markdown",
      "source": [
        "## Decision Tree Classification"
      ],
      "metadata": {
        "id": "dqEDnLs9qxIE"
      }
    },
    {
      "cell_type": "code",
      "source": [
        "from sklearn.tree import DecisionTreeClassifier\n",
        "decision_tree_classifier = DecisionTreeClassifier(criterion = 'entropy', random_state = 0)\n",
        "decision_tree_classifier.fit(x_train, y_train)"
      ],
      "metadata": {
        "colab": {
          "base_uri": "https://localhost:8080/",
          "height": 74
        },
        "id": "xQSakIB-rMTy",
        "outputId": "04471a1c-7300-4cf2-c8f5-93473bbea8eb"
      },
      "execution_count": null,
      "outputs": [
        {
          "output_type": "execute_result",
          "data": {
            "text/plain": [
              "DecisionTreeClassifier(criterion='entropy', random_state=0)"
            ],
            "text/html": [
              "<style>#sk-container-id-2 {color: black;background-color: white;}#sk-container-id-2 pre{padding: 0;}#sk-container-id-2 div.sk-toggleable {background-color: white;}#sk-container-id-2 label.sk-toggleable__label {cursor: pointer;display: block;width: 100%;margin-bottom: 0;padding: 0.3em;box-sizing: border-box;text-align: center;}#sk-container-id-2 label.sk-toggleable__label-arrow:before {content: \"▸\";float: left;margin-right: 0.25em;color: #696969;}#sk-container-id-2 label.sk-toggleable__label-arrow:hover:before {color: black;}#sk-container-id-2 div.sk-estimator:hover label.sk-toggleable__label-arrow:before {color: black;}#sk-container-id-2 div.sk-toggleable__content {max-height: 0;max-width: 0;overflow: hidden;text-align: left;background-color: #f0f8ff;}#sk-container-id-2 div.sk-toggleable__content pre {margin: 0.2em;color: black;border-radius: 0.25em;background-color: #f0f8ff;}#sk-container-id-2 input.sk-toggleable__control:checked~div.sk-toggleable__content {max-height: 200px;max-width: 100%;overflow: auto;}#sk-container-id-2 input.sk-toggleable__control:checked~label.sk-toggleable__label-arrow:before {content: \"▾\";}#sk-container-id-2 div.sk-estimator input.sk-toggleable__control:checked~label.sk-toggleable__label {background-color: #d4ebff;}#sk-container-id-2 div.sk-label input.sk-toggleable__control:checked~label.sk-toggleable__label {background-color: #d4ebff;}#sk-container-id-2 input.sk-hidden--visually {border: 0;clip: rect(1px 1px 1px 1px);clip: rect(1px, 1px, 1px, 1px);height: 1px;margin: -1px;overflow: hidden;padding: 0;position: absolute;width: 1px;}#sk-container-id-2 div.sk-estimator {font-family: monospace;background-color: #f0f8ff;border: 1px dotted black;border-radius: 0.25em;box-sizing: border-box;margin-bottom: 0.5em;}#sk-container-id-2 div.sk-estimator:hover {background-color: #d4ebff;}#sk-container-id-2 div.sk-parallel-item::after {content: \"\";width: 100%;border-bottom: 1px solid gray;flex-grow: 1;}#sk-container-id-2 div.sk-label:hover label.sk-toggleable__label {background-color: #d4ebff;}#sk-container-id-2 div.sk-serial::before {content: \"\";position: absolute;border-left: 1px solid gray;box-sizing: border-box;top: 0;bottom: 0;left: 50%;z-index: 0;}#sk-container-id-2 div.sk-serial {display: flex;flex-direction: column;align-items: center;background-color: white;padding-right: 0.2em;padding-left: 0.2em;position: relative;}#sk-container-id-2 div.sk-item {position: relative;z-index: 1;}#sk-container-id-2 div.sk-parallel {display: flex;align-items: stretch;justify-content: center;background-color: white;position: relative;}#sk-container-id-2 div.sk-item::before, #sk-container-id-2 div.sk-parallel-item::before {content: \"\";position: absolute;border-left: 1px solid gray;box-sizing: border-box;top: 0;bottom: 0;left: 50%;z-index: -1;}#sk-container-id-2 div.sk-parallel-item {display: flex;flex-direction: column;z-index: 1;position: relative;background-color: white;}#sk-container-id-2 div.sk-parallel-item:first-child::after {align-self: flex-end;width: 50%;}#sk-container-id-2 div.sk-parallel-item:last-child::after {align-self: flex-start;width: 50%;}#sk-container-id-2 div.sk-parallel-item:only-child::after {width: 0;}#sk-container-id-2 div.sk-dashed-wrapped {border: 1px dashed gray;margin: 0 0.4em 0.5em 0.4em;box-sizing: border-box;padding-bottom: 0.4em;background-color: white;}#sk-container-id-2 div.sk-label label {font-family: monospace;font-weight: bold;display: inline-block;line-height: 1.2em;}#sk-container-id-2 div.sk-label-container {text-align: center;}#sk-container-id-2 div.sk-container {/* jupyter's `normalize.less` sets `[hidden] { display: none; }` but bootstrap.min.css set `[hidden] { display: none !important; }` so we also need the `!important` here to be able to override the default hidden behavior on the sphinx rendered scikit-learn.org. See: https://github.com/scikit-learn/scikit-learn/issues/21755 */display: inline-block !important;position: relative;}#sk-container-id-2 div.sk-text-repr-fallback {display: none;}</style><div id=\"sk-container-id-2\" class=\"sk-top-container\"><div class=\"sk-text-repr-fallback\"><pre>DecisionTreeClassifier(criterion=&#x27;entropy&#x27;, random_state=0)</pre><b>In a Jupyter environment, please rerun this cell to show the HTML representation or trust the notebook. <br />On GitHub, the HTML representation is unable to render, please try loading this page with nbviewer.org.</b></div><div class=\"sk-container\" hidden><div class=\"sk-item\"><div class=\"sk-estimator sk-toggleable\"><input class=\"sk-toggleable__control sk-hidden--visually\" id=\"sk-estimator-id-2\" type=\"checkbox\" checked><label for=\"sk-estimator-id-2\" class=\"sk-toggleable__label sk-toggleable__label-arrow\">DecisionTreeClassifier</label><div class=\"sk-toggleable__content\"><pre>DecisionTreeClassifier(criterion=&#x27;entropy&#x27;, random_state=0)</pre></div></div></div></div></div>"
            ]
          },
          "metadata": {},
          "execution_count": 151
        }
      ]
    },
    {
      "cell_type": "code",
      "source": [
        "from sklearn.metrics import confusion_matrix, accuracy_score\n",
        "y_pred_dtc = decision_tree_classifier.predict(x_test)\n",
        "# cm = confusion_matrix(y_test, y_pred_dtc)\n",
        "# print(cm)\n",
        "accuracy_score(y_test, y_pred_dtc)"
      ],
      "metadata": {
        "colab": {
          "base_uri": "https://localhost:8080/"
        },
        "id": "Jt-xyhTQreQo",
        "outputId": "ae8fa2a2-37fe-4a5f-f155-f403b85f4776"
      },
      "execution_count": null,
      "outputs": [
        {
          "output_type": "execute_result",
          "data": {
            "text/plain": [
              "0.7584269662921348"
            ]
          },
          "metadata": {},
          "execution_count": 160
        }
      ]
    },
    {
      "cell_type": "code",
      "source": [
        "type(y_train)"
      ],
      "metadata": {
        "colab": {
          "base_uri": "https://localhost:8080/"
        },
        "id": "YRNGW3X8RbG3",
        "outputId": "623f1456-2c5a-42b0-9d94-d60b81c5917c"
      },
      "execution_count": null,
      "outputs": [
        {
          "output_type": "execute_result",
          "data": {
            "text/plain": [
              "numpy.ndarray"
            ]
          },
          "metadata": {},
          "execution_count": 148
        }
      ]
    },
    {
      "cell_type": "markdown",
      "source": [
        "## KNN"
      ],
      "metadata": {
        "id": "5TxS0kcLq1Va"
      }
    },
    {
      "cell_type": "code",
      "source": [
        "from sklearn.neighbors import KNeighborsClassifier\n",
        "knn_classifier = KNeighborsClassifier(n_neighbors = 5, metric = 'minkowski', p = 2)\n",
        "knn_classifier.fit(x_train, y_train)"
      ],
      "metadata": {
        "colab": {
          "base_uri": "https://localhost:8080/",
          "height": 74
        },
        "id": "Q5Pk7VUBrw-d",
        "outputId": "968e5043-99c0-40fb-ee50-cad0221e2854"
      },
      "execution_count": null,
      "outputs": [
        {
          "output_type": "execute_result",
          "data": {
            "text/plain": [
              "KNeighborsClassifier()"
            ],
            "text/html": [
              "<style>#sk-container-id-1 {color: black;background-color: white;}#sk-container-id-1 pre{padding: 0;}#sk-container-id-1 div.sk-toggleable {background-color: white;}#sk-container-id-1 label.sk-toggleable__label {cursor: pointer;display: block;width: 100%;margin-bottom: 0;padding: 0.3em;box-sizing: border-box;text-align: center;}#sk-container-id-1 label.sk-toggleable__label-arrow:before {content: \"▸\";float: left;margin-right: 0.25em;color: #696969;}#sk-container-id-1 label.sk-toggleable__label-arrow:hover:before {color: black;}#sk-container-id-1 div.sk-estimator:hover label.sk-toggleable__label-arrow:before {color: black;}#sk-container-id-1 div.sk-toggleable__content {max-height: 0;max-width: 0;overflow: hidden;text-align: left;background-color: #f0f8ff;}#sk-container-id-1 div.sk-toggleable__content pre {margin: 0.2em;color: black;border-radius: 0.25em;background-color: #f0f8ff;}#sk-container-id-1 input.sk-toggleable__control:checked~div.sk-toggleable__content {max-height: 200px;max-width: 100%;overflow: auto;}#sk-container-id-1 input.sk-toggleable__control:checked~label.sk-toggleable__label-arrow:before {content: \"▾\";}#sk-container-id-1 div.sk-estimator input.sk-toggleable__control:checked~label.sk-toggleable__label {background-color: #d4ebff;}#sk-container-id-1 div.sk-label input.sk-toggleable__control:checked~label.sk-toggleable__label {background-color: #d4ebff;}#sk-container-id-1 input.sk-hidden--visually {border: 0;clip: rect(1px 1px 1px 1px);clip: rect(1px, 1px, 1px, 1px);height: 1px;margin: -1px;overflow: hidden;padding: 0;position: absolute;width: 1px;}#sk-container-id-1 div.sk-estimator {font-family: monospace;background-color: #f0f8ff;border: 1px dotted black;border-radius: 0.25em;box-sizing: border-box;margin-bottom: 0.5em;}#sk-container-id-1 div.sk-estimator:hover {background-color: #d4ebff;}#sk-container-id-1 div.sk-parallel-item::after {content: \"\";width: 100%;border-bottom: 1px solid gray;flex-grow: 1;}#sk-container-id-1 div.sk-label:hover label.sk-toggleable__label {background-color: #d4ebff;}#sk-container-id-1 div.sk-serial::before {content: \"\";position: absolute;border-left: 1px solid gray;box-sizing: border-box;top: 0;bottom: 0;left: 50%;z-index: 0;}#sk-container-id-1 div.sk-serial {display: flex;flex-direction: column;align-items: center;background-color: white;padding-right: 0.2em;padding-left: 0.2em;position: relative;}#sk-container-id-1 div.sk-item {position: relative;z-index: 1;}#sk-container-id-1 div.sk-parallel {display: flex;align-items: stretch;justify-content: center;background-color: white;position: relative;}#sk-container-id-1 div.sk-item::before, #sk-container-id-1 div.sk-parallel-item::before {content: \"\";position: absolute;border-left: 1px solid gray;box-sizing: border-box;top: 0;bottom: 0;left: 50%;z-index: -1;}#sk-container-id-1 div.sk-parallel-item {display: flex;flex-direction: column;z-index: 1;position: relative;background-color: white;}#sk-container-id-1 div.sk-parallel-item:first-child::after {align-self: flex-end;width: 50%;}#sk-container-id-1 div.sk-parallel-item:last-child::after {align-self: flex-start;width: 50%;}#sk-container-id-1 div.sk-parallel-item:only-child::after {width: 0;}#sk-container-id-1 div.sk-dashed-wrapped {border: 1px dashed gray;margin: 0 0.4em 0.5em 0.4em;box-sizing: border-box;padding-bottom: 0.4em;background-color: white;}#sk-container-id-1 div.sk-label label {font-family: monospace;font-weight: bold;display: inline-block;line-height: 1.2em;}#sk-container-id-1 div.sk-label-container {text-align: center;}#sk-container-id-1 div.sk-container {/* jupyter's `normalize.less` sets `[hidden] { display: none; }` but bootstrap.min.css set `[hidden] { display: none !important; }` so we also need the `!important` here to be able to override the default hidden behavior on the sphinx rendered scikit-learn.org. See: https://github.com/scikit-learn/scikit-learn/issues/21755 */display: inline-block !important;position: relative;}#sk-container-id-1 div.sk-text-repr-fallback {display: none;}</style><div id=\"sk-container-id-1\" class=\"sk-top-container\"><div class=\"sk-text-repr-fallback\"><pre>KNeighborsClassifier()</pre><b>In a Jupyter environment, please rerun this cell to show the HTML representation or trust the notebook. <br />On GitHub, the HTML representation is unable to render, please try loading this page with nbviewer.org.</b></div><div class=\"sk-container\" hidden><div class=\"sk-item\"><div class=\"sk-estimator sk-toggleable\"><input class=\"sk-toggleable__control sk-hidden--visually\" id=\"sk-estimator-id-1\" type=\"checkbox\" checked><label for=\"sk-estimator-id-1\" class=\"sk-toggleable__label sk-toggleable__label-arrow\">KNeighborsClassifier</label><div class=\"sk-toggleable__content\"><pre>KNeighborsClassifier()</pre></div></div></div></div></div>"
            ]
          },
          "metadata": {},
          "execution_count": 150
        }
      ]
    },
    {
      "cell_type": "code",
      "source": [
        "y_pred_knn = knn_classifier.predict(x_test)\n",
        "# cm = confusion_matrix(y_test, y_pred_knn)\n",
        "# print(cm)\n",
        "accuracy_score(y_test, y_pred_knn)"
      ],
      "metadata": {
        "colab": {
          "base_uri": "https://localhost:8080/"
        },
        "id": "BFLN7UvDr7Fp",
        "outputId": "e9e29715-3f05-45ba-bf1b-0040e3c61832"
      },
      "execution_count": null,
      "outputs": [
        {
          "output_type": "execute_result",
          "data": {
            "text/plain": [
              "0.8089887640449438"
            ]
          },
          "metadata": {},
          "execution_count": 161
        }
      ]
    },
    {
      "cell_type": "markdown",
      "source": [
        "## Kernel SVM"
      ],
      "metadata": {
        "id": "309Gkr_Mq3gj"
      }
    },
    {
      "cell_type": "code",
      "source": [
        "from sklearn.svm import SVC\n",
        "kernel_svm_classifier = SVC(kernel = 'rbf', random_state = 0)\n",
        "kernel_svm_classifier.fit(x_train, y_train)"
      ],
      "metadata": {
        "colab": {
          "base_uri": "https://localhost:8080/",
          "height": 74
        },
        "id": "Bv5X-0HOsELh",
        "outputId": "bcad6e30-3a8f-4448-cb69-a642394339f8"
      },
      "execution_count": null,
      "outputs": [
        {
          "output_type": "execute_result",
          "data": {
            "text/plain": [
              "SVC(random_state=0)"
            ],
            "text/html": [
              "<style>#sk-container-id-3 {color: black;background-color: white;}#sk-container-id-3 pre{padding: 0;}#sk-container-id-3 div.sk-toggleable {background-color: white;}#sk-container-id-3 label.sk-toggleable__label {cursor: pointer;display: block;width: 100%;margin-bottom: 0;padding: 0.3em;box-sizing: border-box;text-align: center;}#sk-container-id-3 label.sk-toggleable__label-arrow:before {content: \"▸\";float: left;margin-right: 0.25em;color: #696969;}#sk-container-id-3 label.sk-toggleable__label-arrow:hover:before {color: black;}#sk-container-id-3 div.sk-estimator:hover label.sk-toggleable__label-arrow:before {color: black;}#sk-container-id-3 div.sk-toggleable__content {max-height: 0;max-width: 0;overflow: hidden;text-align: left;background-color: #f0f8ff;}#sk-container-id-3 div.sk-toggleable__content pre {margin: 0.2em;color: black;border-radius: 0.25em;background-color: #f0f8ff;}#sk-container-id-3 input.sk-toggleable__control:checked~div.sk-toggleable__content {max-height: 200px;max-width: 100%;overflow: auto;}#sk-container-id-3 input.sk-toggleable__control:checked~label.sk-toggleable__label-arrow:before {content: \"▾\";}#sk-container-id-3 div.sk-estimator input.sk-toggleable__control:checked~label.sk-toggleable__label {background-color: #d4ebff;}#sk-container-id-3 div.sk-label input.sk-toggleable__control:checked~label.sk-toggleable__label {background-color: #d4ebff;}#sk-container-id-3 input.sk-hidden--visually {border: 0;clip: rect(1px 1px 1px 1px);clip: rect(1px, 1px, 1px, 1px);height: 1px;margin: -1px;overflow: hidden;padding: 0;position: absolute;width: 1px;}#sk-container-id-3 div.sk-estimator {font-family: monospace;background-color: #f0f8ff;border: 1px dotted black;border-radius: 0.25em;box-sizing: border-box;margin-bottom: 0.5em;}#sk-container-id-3 div.sk-estimator:hover {background-color: #d4ebff;}#sk-container-id-3 div.sk-parallel-item::after {content: \"\";width: 100%;border-bottom: 1px solid gray;flex-grow: 1;}#sk-container-id-3 div.sk-label:hover label.sk-toggleable__label {background-color: #d4ebff;}#sk-container-id-3 div.sk-serial::before {content: \"\";position: absolute;border-left: 1px solid gray;box-sizing: border-box;top: 0;bottom: 0;left: 50%;z-index: 0;}#sk-container-id-3 div.sk-serial {display: flex;flex-direction: column;align-items: center;background-color: white;padding-right: 0.2em;padding-left: 0.2em;position: relative;}#sk-container-id-3 div.sk-item {position: relative;z-index: 1;}#sk-container-id-3 div.sk-parallel {display: flex;align-items: stretch;justify-content: center;background-color: white;position: relative;}#sk-container-id-3 div.sk-item::before, #sk-container-id-3 div.sk-parallel-item::before {content: \"\";position: absolute;border-left: 1px solid gray;box-sizing: border-box;top: 0;bottom: 0;left: 50%;z-index: -1;}#sk-container-id-3 div.sk-parallel-item {display: flex;flex-direction: column;z-index: 1;position: relative;background-color: white;}#sk-container-id-3 div.sk-parallel-item:first-child::after {align-self: flex-end;width: 50%;}#sk-container-id-3 div.sk-parallel-item:last-child::after {align-self: flex-start;width: 50%;}#sk-container-id-3 div.sk-parallel-item:only-child::after {width: 0;}#sk-container-id-3 div.sk-dashed-wrapped {border: 1px dashed gray;margin: 0 0.4em 0.5em 0.4em;box-sizing: border-box;padding-bottom: 0.4em;background-color: white;}#sk-container-id-3 div.sk-label label {font-family: monospace;font-weight: bold;display: inline-block;line-height: 1.2em;}#sk-container-id-3 div.sk-label-container {text-align: center;}#sk-container-id-3 div.sk-container {/* jupyter's `normalize.less` sets `[hidden] { display: none; }` but bootstrap.min.css set `[hidden] { display: none !important; }` so we also need the `!important` here to be able to override the default hidden behavior on the sphinx rendered scikit-learn.org. See: https://github.com/scikit-learn/scikit-learn/issues/21755 */display: inline-block !important;position: relative;}#sk-container-id-3 div.sk-text-repr-fallback {display: none;}</style><div id=\"sk-container-id-3\" class=\"sk-top-container\"><div class=\"sk-text-repr-fallback\"><pre>SVC(random_state=0)</pre><b>In a Jupyter environment, please rerun this cell to show the HTML representation or trust the notebook. <br />On GitHub, the HTML representation is unable to render, please try loading this page with nbviewer.org.</b></div><div class=\"sk-container\" hidden><div class=\"sk-item\"><div class=\"sk-estimator sk-toggleable\"><input class=\"sk-toggleable__control sk-hidden--visually\" id=\"sk-estimator-id-3\" type=\"checkbox\" checked><label for=\"sk-estimator-id-3\" class=\"sk-toggleable__label sk-toggleable__label-arrow\">SVC</label><div class=\"sk-toggleable__content\"><pre>SVC(random_state=0)</pre></div></div></div></div></div>"
            ]
          },
          "metadata": {},
          "execution_count": 152
        }
      ]
    },
    {
      "cell_type": "code",
      "source": [
        "y_pred_ksvm = kernel_svm_classifier.predict(x_test)\n",
        "# cm = confusion_matrix(y_test, y_pred_ksvm)\n",
        "# print(cm)\n",
        "accuracy_score(y_test, y_pred_ksvm)"
      ],
      "metadata": {
        "colab": {
          "base_uri": "https://localhost:8080/"
        },
        "id": "cTmQkvj8sK7h",
        "outputId": "6ff90816-09ae-4298-884c-ac6701def316"
      },
      "execution_count": null,
      "outputs": [
        {
          "output_type": "execute_result",
          "data": {
            "text/plain": [
              "0.8426966292134831"
            ]
          },
          "metadata": {},
          "execution_count": 162
        }
      ]
    },
    {
      "cell_type": "markdown",
      "source": [
        "## Logistic Regression"
      ],
      "metadata": {
        "id": "RhjT6AEFrASB"
      }
    },
    {
      "cell_type": "code",
      "source": [
        "from sklearn.linear_model import LogisticRegression\n",
        "logistic_regression_classifier = LogisticRegression(random_state = 0)\n",
        "logistic_regression_classifier.fit(x_train, y_train)"
      ],
      "metadata": {
        "colab": {
          "base_uri": "https://localhost:8080/",
          "height": 74
        },
        "id": "x-whYrNxscjW",
        "outputId": "32e9cf46-c408-43d7-f193-8b1619f65757"
      },
      "execution_count": null,
      "outputs": [
        {
          "output_type": "execute_result",
          "data": {
            "text/plain": [
              "LogisticRegression(random_state=0)"
            ],
            "text/html": [
              "<style>#sk-container-id-4 {color: black;background-color: white;}#sk-container-id-4 pre{padding: 0;}#sk-container-id-4 div.sk-toggleable {background-color: white;}#sk-container-id-4 label.sk-toggleable__label {cursor: pointer;display: block;width: 100%;margin-bottom: 0;padding: 0.3em;box-sizing: border-box;text-align: center;}#sk-container-id-4 label.sk-toggleable__label-arrow:before {content: \"▸\";float: left;margin-right: 0.25em;color: #696969;}#sk-container-id-4 label.sk-toggleable__label-arrow:hover:before {color: black;}#sk-container-id-4 div.sk-estimator:hover label.sk-toggleable__label-arrow:before {color: black;}#sk-container-id-4 div.sk-toggleable__content {max-height: 0;max-width: 0;overflow: hidden;text-align: left;background-color: #f0f8ff;}#sk-container-id-4 div.sk-toggleable__content pre {margin: 0.2em;color: black;border-radius: 0.25em;background-color: #f0f8ff;}#sk-container-id-4 input.sk-toggleable__control:checked~div.sk-toggleable__content {max-height: 200px;max-width: 100%;overflow: auto;}#sk-container-id-4 input.sk-toggleable__control:checked~label.sk-toggleable__label-arrow:before {content: \"▾\";}#sk-container-id-4 div.sk-estimator input.sk-toggleable__control:checked~label.sk-toggleable__label {background-color: #d4ebff;}#sk-container-id-4 div.sk-label input.sk-toggleable__control:checked~label.sk-toggleable__label {background-color: #d4ebff;}#sk-container-id-4 input.sk-hidden--visually {border: 0;clip: rect(1px 1px 1px 1px);clip: rect(1px, 1px, 1px, 1px);height: 1px;margin: -1px;overflow: hidden;padding: 0;position: absolute;width: 1px;}#sk-container-id-4 div.sk-estimator {font-family: monospace;background-color: #f0f8ff;border: 1px dotted black;border-radius: 0.25em;box-sizing: border-box;margin-bottom: 0.5em;}#sk-container-id-4 div.sk-estimator:hover {background-color: #d4ebff;}#sk-container-id-4 div.sk-parallel-item::after {content: \"\";width: 100%;border-bottom: 1px solid gray;flex-grow: 1;}#sk-container-id-4 div.sk-label:hover label.sk-toggleable__label {background-color: #d4ebff;}#sk-container-id-4 div.sk-serial::before {content: \"\";position: absolute;border-left: 1px solid gray;box-sizing: border-box;top: 0;bottom: 0;left: 50%;z-index: 0;}#sk-container-id-4 div.sk-serial {display: flex;flex-direction: column;align-items: center;background-color: white;padding-right: 0.2em;padding-left: 0.2em;position: relative;}#sk-container-id-4 div.sk-item {position: relative;z-index: 1;}#sk-container-id-4 div.sk-parallel {display: flex;align-items: stretch;justify-content: center;background-color: white;position: relative;}#sk-container-id-4 div.sk-item::before, #sk-container-id-4 div.sk-parallel-item::before {content: \"\";position: absolute;border-left: 1px solid gray;box-sizing: border-box;top: 0;bottom: 0;left: 50%;z-index: -1;}#sk-container-id-4 div.sk-parallel-item {display: flex;flex-direction: column;z-index: 1;position: relative;background-color: white;}#sk-container-id-4 div.sk-parallel-item:first-child::after {align-self: flex-end;width: 50%;}#sk-container-id-4 div.sk-parallel-item:last-child::after {align-self: flex-start;width: 50%;}#sk-container-id-4 div.sk-parallel-item:only-child::after {width: 0;}#sk-container-id-4 div.sk-dashed-wrapped {border: 1px dashed gray;margin: 0 0.4em 0.5em 0.4em;box-sizing: border-box;padding-bottom: 0.4em;background-color: white;}#sk-container-id-4 div.sk-label label {font-family: monospace;font-weight: bold;display: inline-block;line-height: 1.2em;}#sk-container-id-4 div.sk-label-container {text-align: center;}#sk-container-id-4 div.sk-container {/* jupyter's `normalize.less` sets `[hidden] { display: none; }` but bootstrap.min.css set `[hidden] { display: none !important; }` so we also need the `!important` here to be able to override the default hidden behavior on the sphinx rendered scikit-learn.org. See: https://github.com/scikit-learn/scikit-learn/issues/21755 */display: inline-block !important;position: relative;}#sk-container-id-4 div.sk-text-repr-fallback {display: none;}</style><div id=\"sk-container-id-4\" class=\"sk-top-container\"><div class=\"sk-text-repr-fallback\"><pre>LogisticRegression(random_state=0)</pre><b>In a Jupyter environment, please rerun this cell to show the HTML representation or trust the notebook. <br />On GitHub, the HTML representation is unable to render, please try loading this page with nbviewer.org.</b></div><div class=\"sk-container\" hidden><div class=\"sk-item\"><div class=\"sk-estimator sk-toggleable\"><input class=\"sk-toggleable__control sk-hidden--visually\" id=\"sk-estimator-id-4\" type=\"checkbox\" checked><label for=\"sk-estimator-id-4\" class=\"sk-toggleable__label sk-toggleable__label-arrow\">LogisticRegression</label><div class=\"sk-toggleable__content\"><pre>LogisticRegression(random_state=0)</pre></div></div></div></div></div>"
            ]
          },
          "metadata": {},
          "execution_count": 153
        }
      ]
    },
    {
      "cell_type": "code",
      "source": [
        "y_pred_lr = logistic_regression_classifier.predict(x_test)\n",
        "# cm = confusion_matrix(y_test, y_pred_lr)\n",
        "# print(cm)\n",
        "accuracy_score(y_test, y_pred_lr)"
      ],
      "metadata": {
        "colab": {
          "base_uri": "https://localhost:8080/"
        },
        "id": "lBm2mtk0smld",
        "outputId": "ac17b8d0-d9be-469d-cd68-5b44db043006"
      },
      "execution_count": null,
      "outputs": [
        {
          "output_type": "execute_result",
          "data": {
            "text/plain": [
              "0.8426966292134831"
            ]
          },
          "metadata": {},
          "execution_count": 163
        }
      ]
    },
    {
      "cell_type": "markdown",
      "source": [
        "## Naive Bayes"
      ],
      "metadata": {
        "id": "frKAY7dSrDh5"
      }
    },
    {
      "cell_type": "code",
      "source": [
        "from sklearn.naive_bayes import GaussianNB\n",
        "naive_bayes_classifier = GaussianNB()\n",
        "naive_bayes_classifier.fit(x_train, y_train)"
      ],
      "metadata": {
        "colab": {
          "base_uri": "https://localhost:8080/",
          "height": 74
        },
        "id": "HrWzWA4hs4xp",
        "outputId": "c4ed8048-227e-4bcc-fc19-9d008693ed06"
      },
      "execution_count": null,
      "outputs": [
        {
          "output_type": "execute_result",
          "data": {
            "text/plain": [
              "GaussianNB()"
            ],
            "text/html": [
              "<style>#sk-container-id-5 {color: black;background-color: white;}#sk-container-id-5 pre{padding: 0;}#sk-container-id-5 div.sk-toggleable {background-color: white;}#sk-container-id-5 label.sk-toggleable__label {cursor: pointer;display: block;width: 100%;margin-bottom: 0;padding: 0.3em;box-sizing: border-box;text-align: center;}#sk-container-id-5 label.sk-toggleable__label-arrow:before {content: \"▸\";float: left;margin-right: 0.25em;color: #696969;}#sk-container-id-5 label.sk-toggleable__label-arrow:hover:before {color: black;}#sk-container-id-5 div.sk-estimator:hover label.sk-toggleable__label-arrow:before {color: black;}#sk-container-id-5 div.sk-toggleable__content {max-height: 0;max-width: 0;overflow: hidden;text-align: left;background-color: #f0f8ff;}#sk-container-id-5 div.sk-toggleable__content pre {margin: 0.2em;color: black;border-radius: 0.25em;background-color: #f0f8ff;}#sk-container-id-5 input.sk-toggleable__control:checked~div.sk-toggleable__content {max-height: 200px;max-width: 100%;overflow: auto;}#sk-container-id-5 input.sk-toggleable__control:checked~label.sk-toggleable__label-arrow:before {content: \"▾\";}#sk-container-id-5 div.sk-estimator input.sk-toggleable__control:checked~label.sk-toggleable__label {background-color: #d4ebff;}#sk-container-id-5 div.sk-label input.sk-toggleable__control:checked~label.sk-toggleable__label {background-color: #d4ebff;}#sk-container-id-5 input.sk-hidden--visually {border: 0;clip: rect(1px 1px 1px 1px);clip: rect(1px, 1px, 1px, 1px);height: 1px;margin: -1px;overflow: hidden;padding: 0;position: absolute;width: 1px;}#sk-container-id-5 div.sk-estimator {font-family: monospace;background-color: #f0f8ff;border: 1px dotted black;border-radius: 0.25em;box-sizing: border-box;margin-bottom: 0.5em;}#sk-container-id-5 div.sk-estimator:hover {background-color: #d4ebff;}#sk-container-id-5 div.sk-parallel-item::after {content: \"\";width: 100%;border-bottom: 1px solid gray;flex-grow: 1;}#sk-container-id-5 div.sk-label:hover label.sk-toggleable__label {background-color: #d4ebff;}#sk-container-id-5 div.sk-serial::before {content: \"\";position: absolute;border-left: 1px solid gray;box-sizing: border-box;top: 0;bottom: 0;left: 50%;z-index: 0;}#sk-container-id-5 div.sk-serial {display: flex;flex-direction: column;align-items: center;background-color: white;padding-right: 0.2em;padding-left: 0.2em;position: relative;}#sk-container-id-5 div.sk-item {position: relative;z-index: 1;}#sk-container-id-5 div.sk-parallel {display: flex;align-items: stretch;justify-content: center;background-color: white;position: relative;}#sk-container-id-5 div.sk-item::before, #sk-container-id-5 div.sk-parallel-item::before {content: \"\";position: absolute;border-left: 1px solid gray;box-sizing: border-box;top: 0;bottom: 0;left: 50%;z-index: -1;}#sk-container-id-5 div.sk-parallel-item {display: flex;flex-direction: column;z-index: 1;position: relative;background-color: white;}#sk-container-id-5 div.sk-parallel-item:first-child::after {align-self: flex-end;width: 50%;}#sk-container-id-5 div.sk-parallel-item:last-child::after {align-self: flex-start;width: 50%;}#sk-container-id-5 div.sk-parallel-item:only-child::after {width: 0;}#sk-container-id-5 div.sk-dashed-wrapped {border: 1px dashed gray;margin: 0 0.4em 0.5em 0.4em;box-sizing: border-box;padding-bottom: 0.4em;background-color: white;}#sk-container-id-5 div.sk-label label {font-family: monospace;font-weight: bold;display: inline-block;line-height: 1.2em;}#sk-container-id-5 div.sk-label-container {text-align: center;}#sk-container-id-5 div.sk-container {/* jupyter's `normalize.less` sets `[hidden] { display: none; }` but bootstrap.min.css set `[hidden] { display: none !important; }` so we also need the `!important` here to be able to override the default hidden behavior on the sphinx rendered scikit-learn.org. See: https://github.com/scikit-learn/scikit-learn/issues/21755 */display: inline-block !important;position: relative;}#sk-container-id-5 div.sk-text-repr-fallback {display: none;}</style><div id=\"sk-container-id-5\" class=\"sk-top-container\"><div class=\"sk-text-repr-fallback\"><pre>GaussianNB()</pre><b>In a Jupyter environment, please rerun this cell to show the HTML representation or trust the notebook. <br />On GitHub, the HTML representation is unable to render, please try loading this page with nbviewer.org.</b></div><div class=\"sk-container\" hidden><div class=\"sk-item\"><div class=\"sk-estimator sk-toggleable\"><input class=\"sk-toggleable__control sk-hidden--visually\" id=\"sk-estimator-id-5\" type=\"checkbox\" checked><label for=\"sk-estimator-id-5\" class=\"sk-toggleable__label sk-toggleable__label-arrow\">GaussianNB</label><div class=\"sk-toggleable__content\"><pre>GaussianNB()</pre></div></div></div></div></div>"
            ]
          },
          "metadata": {},
          "execution_count": 154
        }
      ]
    },
    {
      "cell_type": "code",
      "source": [
        "y_pred_nb = naive_bayes_classifier.predict(x_test)\n",
        "# cm = confusion_matrix(y_test, y_pred_nb)\n",
        "# print(cm)\n",
        "accuracy_score(y_test, y_pred_nb)"
      ],
      "metadata": {
        "colab": {
          "base_uri": "https://localhost:8080/"
        },
        "id": "ZoFoxXXYtBAO",
        "outputId": "cb227afe-2a06-4a5f-d437-bf89fffe679d"
      },
      "execution_count": null,
      "outputs": [
        {
          "output_type": "execute_result",
          "data": {
            "text/plain": [
              "0.8202247191011236"
            ]
          },
          "metadata": {},
          "execution_count": 164
        }
      ]
    },
    {
      "cell_type": "markdown",
      "source": [
        "## Random Forest Classification"
      ],
      "metadata": {
        "id": "1JmbTFeirGV7"
      }
    },
    {
      "cell_type": "code",
      "source": [
        "from sklearn.ensemble import RandomForestClassifier\n",
        "random_forest_classifier = RandomForestClassifier(n_estimators = 50, criterion = 'entropy', random_state = 0)\n",
        "random_forest_classifier.fit(x_train, y_train)"
      ],
      "metadata": {
        "colab": {
          "base_uri": "https://localhost:8080/",
          "height": 74
        },
        "id": "Reed2aqetIqr",
        "outputId": "5a18e543-f75e-4a4a-d446-86d6aa94f5c4"
      },
      "execution_count": null,
      "outputs": [
        {
          "output_type": "execute_result",
          "data": {
            "text/plain": [
              "RandomForestClassifier(criterion='entropy', n_estimators=50, random_state=0)"
            ],
            "text/html": [
              "<style>#sk-container-id-12 {color: black;background-color: white;}#sk-container-id-12 pre{padding: 0;}#sk-container-id-12 div.sk-toggleable {background-color: white;}#sk-container-id-12 label.sk-toggleable__label {cursor: pointer;display: block;width: 100%;margin-bottom: 0;padding: 0.3em;box-sizing: border-box;text-align: center;}#sk-container-id-12 label.sk-toggleable__label-arrow:before {content: \"▸\";float: left;margin-right: 0.25em;color: #696969;}#sk-container-id-12 label.sk-toggleable__label-arrow:hover:before {color: black;}#sk-container-id-12 div.sk-estimator:hover label.sk-toggleable__label-arrow:before {color: black;}#sk-container-id-12 div.sk-toggleable__content {max-height: 0;max-width: 0;overflow: hidden;text-align: left;background-color: #f0f8ff;}#sk-container-id-12 div.sk-toggleable__content pre {margin: 0.2em;color: black;border-radius: 0.25em;background-color: #f0f8ff;}#sk-container-id-12 input.sk-toggleable__control:checked~div.sk-toggleable__content {max-height: 200px;max-width: 100%;overflow: auto;}#sk-container-id-12 input.sk-toggleable__control:checked~label.sk-toggleable__label-arrow:before {content: \"▾\";}#sk-container-id-12 div.sk-estimator input.sk-toggleable__control:checked~label.sk-toggleable__label {background-color: #d4ebff;}#sk-container-id-12 div.sk-label input.sk-toggleable__control:checked~label.sk-toggleable__label {background-color: #d4ebff;}#sk-container-id-12 input.sk-hidden--visually {border: 0;clip: rect(1px 1px 1px 1px);clip: rect(1px, 1px, 1px, 1px);height: 1px;margin: -1px;overflow: hidden;padding: 0;position: absolute;width: 1px;}#sk-container-id-12 div.sk-estimator {font-family: monospace;background-color: #f0f8ff;border: 1px dotted black;border-radius: 0.25em;box-sizing: border-box;margin-bottom: 0.5em;}#sk-container-id-12 div.sk-estimator:hover {background-color: #d4ebff;}#sk-container-id-12 div.sk-parallel-item::after {content: \"\";width: 100%;border-bottom: 1px solid gray;flex-grow: 1;}#sk-container-id-12 div.sk-label:hover label.sk-toggleable__label {background-color: #d4ebff;}#sk-container-id-12 div.sk-serial::before {content: \"\";position: absolute;border-left: 1px solid gray;box-sizing: border-box;top: 0;bottom: 0;left: 50%;z-index: 0;}#sk-container-id-12 div.sk-serial {display: flex;flex-direction: column;align-items: center;background-color: white;padding-right: 0.2em;padding-left: 0.2em;position: relative;}#sk-container-id-12 div.sk-item {position: relative;z-index: 1;}#sk-container-id-12 div.sk-parallel {display: flex;align-items: stretch;justify-content: center;background-color: white;position: relative;}#sk-container-id-12 div.sk-item::before, #sk-container-id-12 div.sk-parallel-item::before {content: \"\";position: absolute;border-left: 1px solid gray;box-sizing: border-box;top: 0;bottom: 0;left: 50%;z-index: -1;}#sk-container-id-12 div.sk-parallel-item {display: flex;flex-direction: column;z-index: 1;position: relative;background-color: white;}#sk-container-id-12 div.sk-parallel-item:first-child::after {align-self: flex-end;width: 50%;}#sk-container-id-12 div.sk-parallel-item:last-child::after {align-self: flex-start;width: 50%;}#sk-container-id-12 div.sk-parallel-item:only-child::after {width: 0;}#sk-container-id-12 div.sk-dashed-wrapped {border: 1px dashed gray;margin: 0 0.4em 0.5em 0.4em;box-sizing: border-box;padding-bottom: 0.4em;background-color: white;}#sk-container-id-12 div.sk-label label {font-family: monospace;font-weight: bold;display: inline-block;line-height: 1.2em;}#sk-container-id-12 div.sk-label-container {text-align: center;}#sk-container-id-12 div.sk-container {/* jupyter's `normalize.less` sets `[hidden] { display: none; }` but bootstrap.min.css set `[hidden] { display: none !important; }` so we also need the `!important` here to be able to override the default hidden behavior on the sphinx rendered scikit-learn.org. See: https://github.com/scikit-learn/scikit-learn/issues/21755 */display: inline-block !important;position: relative;}#sk-container-id-12 div.sk-text-repr-fallback {display: none;}</style><div id=\"sk-container-id-12\" class=\"sk-top-container\"><div class=\"sk-text-repr-fallback\"><pre>RandomForestClassifier(criterion=&#x27;entropy&#x27;, n_estimators=50, random_state=0)</pre><b>In a Jupyter environment, please rerun this cell to show the HTML representation or trust the notebook. <br />On GitHub, the HTML representation is unable to render, please try loading this page with nbviewer.org.</b></div><div class=\"sk-container\" hidden><div class=\"sk-item\"><div class=\"sk-estimator sk-toggleable\"><input class=\"sk-toggleable__control sk-hidden--visually\" id=\"sk-estimator-id-12\" type=\"checkbox\" checked><label for=\"sk-estimator-id-12\" class=\"sk-toggleable__label sk-toggleable__label-arrow\">RandomForestClassifier</label><div class=\"sk-toggleable__content\"><pre>RandomForestClassifier(criterion=&#x27;entropy&#x27;, n_estimators=50, random_state=0)</pre></div></div></div></div></div>"
            ]
          },
          "metadata": {},
          "execution_count": 175
        }
      ]
    },
    {
      "cell_type": "code",
      "source": [
        "y_pred_rfc = random_forest_classifier.predict(x_test)\n",
        "# cm = confusion_matrix(y_test, y_pred_rfc)\n",
        "# print(cm)\n",
        "accuracy_score(y_test, y_pred_rfc)"
      ],
      "metadata": {
        "colab": {
          "base_uri": "https://localhost:8080/"
        },
        "id": "dzkLZOPVtNNu",
        "outputId": "2ffde4d1-3af0-452c-b99f-d1a587dbb80a"
      },
      "execution_count": null,
      "outputs": [
        {
          "output_type": "execute_result",
          "data": {
            "text/plain": [
              "0.8146067415730337"
            ]
          },
          "metadata": {},
          "execution_count": 176
        }
      ]
    },
    {
      "cell_type": "markdown",
      "source": [
        "## SVM"
      ],
      "metadata": {
        "id": "0pTRYYlMrKQY"
      }
    },
    {
      "cell_type": "code",
      "source": [
        "from sklearn.svm import SVC\n",
        "svm_classifier = SVC(kernel = 'linear', random_state = 0)\n",
        "svm_classifier.fit(x_train, y_train)"
      ],
      "metadata": {
        "colab": {
          "base_uri": "https://localhost:8080/",
          "height": 74
        },
        "id": "mPPmo2dlcmln",
        "outputId": "b74b771d-3185-4e50-ea1a-86fe0674d57a"
      },
      "execution_count": null,
      "outputs": [
        {
          "output_type": "execute_result",
          "data": {
            "text/plain": [
              "SVC(kernel='linear', random_state=0)"
            ],
            "text/html": [
              "<style>#sk-container-id-7 {color: black;background-color: white;}#sk-container-id-7 pre{padding: 0;}#sk-container-id-7 div.sk-toggleable {background-color: white;}#sk-container-id-7 label.sk-toggleable__label {cursor: pointer;display: block;width: 100%;margin-bottom: 0;padding: 0.3em;box-sizing: border-box;text-align: center;}#sk-container-id-7 label.sk-toggleable__label-arrow:before {content: \"▸\";float: left;margin-right: 0.25em;color: #696969;}#sk-container-id-7 label.sk-toggleable__label-arrow:hover:before {color: black;}#sk-container-id-7 div.sk-estimator:hover label.sk-toggleable__label-arrow:before {color: black;}#sk-container-id-7 div.sk-toggleable__content {max-height: 0;max-width: 0;overflow: hidden;text-align: left;background-color: #f0f8ff;}#sk-container-id-7 div.sk-toggleable__content pre {margin: 0.2em;color: black;border-radius: 0.25em;background-color: #f0f8ff;}#sk-container-id-7 input.sk-toggleable__control:checked~div.sk-toggleable__content {max-height: 200px;max-width: 100%;overflow: auto;}#sk-container-id-7 input.sk-toggleable__control:checked~label.sk-toggleable__label-arrow:before {content: \"▾\";}#sk-container-id-7 div.sk-estimator input.sk-toggleable__control:checked~label.sk-toggleable__label {background-color: #d4ebff;}#sk-container-id-7 div.sk-label input.sk-toggleable__control:checked~label.sk-toggleable__label {background-color: #d4ebff;}#sk-container-id-7 input.sk-hidden--visually {border: 0;clip: rect(1px 1px 1px 1px);clip: rect(1px, 1px, 1px, 1px);height: 1px;margin: -1px;overflow: hidden;padding: 0;position: absolute;width: 1px;}#sk-container-id-7 div.sk-estimator {font-family: monospace;background-color: #f0f8ff;border: 1px dotted black;border-radius: 0.25em;box-sizing: border-box;margin-bottom: 0.5em;}#sk-container-id-7 div.sk-estimator:hover {background-color: #d4ebff;}#sk-container-id-7 div.sk-parallel-item::after {content: \"\";width: 100%;border-bottom: 1px solid gray;flex-grow: 1;}#sk-container-id-7 div.sk-label:hover label.sk-toggleable__label {background-color: #d4ebff;}#sk-container-id-7 div.sk-serial::before {content: \"\";position: absolute;border-left: 1px solid gray;box-sizing: border-box;top: 0;bottom: 0;left: 50%;z-index: 0;}#sk-container-id-7 div.sk-serial {display: flex;flex-direction: column;align-items: center;background-color: white;padding-right: 0.2em;padding-left: 0.2em;position: relative;}#sk-container-id-7 div.sk-item {position: relative;z-index: 1;}#sk-container-id-7 div.sk-parallel {display: flex;align-items: stretch;justify-content: center;background-color: white;position: relative;}#sk-container-id-7 div.sk-item::before, #sk-container-id-7 div.sk-parallel-item::before {content: \"\";position: absolute;border-left: 1px solid gray;box-sizing: border-box;top: 0;bottom: 0;left: 50%;z-index: -1;}#sk-container-id-7 div.sk-parallel-item {display: flex;flex-direction: column;z-index: 1;position: relative;background-color: white;}#sk-container-id-7 div.sk-parallel-item:first-child::after {align-self: flex-end;width: 50%;}#sk-container-id-7 div.sk-parallel-item:last-child::after {align-self: flex-start;width: 50%;}#sk-container-id-7 div.sk-parallel-item:only-child::after {width: 0;}#sk-container-id-7 div.sk-dashed-wrapped {border: 1px dashed gray;margin: 0 0.4em 0.5em 0.4em;box-sizing: border-box;padding-bottom: 0.4em;background-color: white;}#sk-container-id-7 div.sk-label label {font-family: monospace;font-weight: bold;display: inline-block;line-height: 1.2em;}#sk-container-id-7 div.sk-label-container {text-align: center;}#sk-container-id-7 div.sk-container {/* jupyter's `normalize.less` sets `[hidden] { display: none; }` but bootstrap.min.css set `[hidden] { display: none !important; }` so we also need the `!important` here to be able to override the default hidden behavior on the sphinx rendered scikit-learn.org. See: https://github.com/scikit-learn/scikit-learn/issues/21755 */display: inline-block !important;position: relative;}#sk-container-id-7 div.sk-text-repr-fallback {display: none;}</style><div id=\"sk-container-id-7\" class=\"sk-top-container\"><div class=\"sk-text-repr-fallback\"><pre>SVC(kernel=&#x27;linear&#x27;, random_state=0)</pre><b>In a Jupyter environment, please rerun this cell to show the HTML representation or trust the notebook. <br />On GitHub, the HTML representation is unable to render, please try loading this page with nbviewer.org.</b></div><div class=\"sk-container\" hidden><div class=\"sk-item\"><div class=\"sk-estimator sk-toggleable\"><input class=\"sk-toggleable__control sk-hidden--visually\" id=\"sk-estimator-id-7\" type=\"checkbox\" checked><label for=\"sk-estimator-id-7\" class=\"sk-toggleable__label sk-toggleable__label-arrow\">SVC</label><div class=\"sk-toggleable__content\"><pre>SVC(kernel=&#x27;linear&#x27;, random_state=0)</pre></div></div></div></div></div>"
            ]
          },
          "metadata": {},
          "execution_count": 156
        }
      ]
    },
    {
      "cell_type": "code",
      "source": [
        "y_pred_svm = svm_classifier.predict(x_test)\n",
        "cm = confusion_matrix(y_test, y_pred_svm)\n",
        "print(cm)\n",
        "accuracy_score(y_test, y_pred_svm)"
      ],
      "metadata": {
        "colab": {
          "base_uri": "https://localhost:8080/"
        },
        "id": "c18-YArgtek3",
        "outputId": "34012dbf-7c57-4339-d009-45ef702e29af"
      },
      "execution_count": null,
      "outputs": [
        {
          "output_type": "stream",
          "name": "stdout",
          "text": [
            "[[93 12]\n",
            " [18 55]]\n"
          ]
        },
        {
          "output_type": "execute_result",
          "data": {
            "text/plain": [
              "0.8314606741573034"
            ]
          },
          "metadata": {},
          "execution_count": 166
        }
      ]
    },
    {
      "cell_type": "markdown",
      "source": [
        "# Test Submission"
      ],
      "metadata": {
        "id": "zj9uStxSb2FJ"
      }
    },
    {
      "cell_type": "code",
      "source": [
        "test = pd.read_csv('test.csv')"
      ],
      "metadata": {
        "id": "K8UvCOq6hlI2"
      },
      "execution_count": null,
      "outputs": []
    },
    {
      "cell_type": "code",
      "source": [
        "test.head()"
      ],
      "metadata": {
        "colab": {
          "base_uri": "https://localhost:8080/",
          "height": 206
        },
        "id": "VblhT7dJb3-V",
        "outputId": "0660440a-edeb-473e-c98c-24f7966aaaa5"
      },
      "execution_count": null,
      "outputs": [
        {
          "output_type": "execute_result",
          "data": {
            "text/plain": [
              "   PassengerId  Pclass     Sex   Age  SibSp  Parch     Fare Embarked\n",
              "0          892       3    male  34.5      0      0   7.8292        Q\n",
              "1          893       3  female  47.0      1      0   7.0000        S\n",
              "2          894       2    male  62.0      0      0   9.6875        Q\n",
              "3          895       3    male  27.0      0      0   8.6625        S\n",
              "4          896       3  female  22.0      1      1  12.2875        S"
            ],
            "text/html": [
              "\n",
              "  <div id=\"df-aa5d3049-7886-415d-9ac3-37537e346670\">\n",
              "    <div class=\"colab-df-container\">\n",
              "      <div>\n",
              "<style scoped>\n",
              "    .dataframe tbody tr th:only-of-type {\n",
              "        vertical-align: middle;\n",
              "    }\n",
              "\n",
              "    .dataframe tbody tr th {\n",
              "        vertical-align: top;\n",
              "    }\n",
              "\n",
              "    .dataframe thead th {\n",
              "        text-align: right;\n",
              "    }\n",
              "</style>\n",
              "<table border=\"1\" class=\"dataframe\">\n",
              "  <thead>\n",
              "    <tr style=\"text-align: right;\">\n",
              "      <th></th>\n",
              "      <th>PassengerId</th>\n",
              "      <th>Pclass</th>\n",
              "      <th>Sex</th>\n",
              "      <th>Age</th>\n",
              "      <th>SibSp</th>\n",
              "      <th>Parch</th>\n",
              "      <th>Fare</th>\n",
              "      <th>Embarked</th>\n",
              "    </tr>\n",
              "  </thead>\n",
              "  <tbody>\n",
              "    <tr>\n",
              "      <th>0</th>\n",
              "      <td>892</td>\n",
              "      <td>3</td>\n",
              "      <td>male</td>\n",
              "      <td>34.5</td>\n",
              "      <td>0</td>\n",
              "      <td>0</td>\n",
              "      <td>7.8292</td>\n",
              "      <td>Q</td>\n",
              "    </tr>\n",
              "    <tr>\n",
              "      <th>1</th>\n",
              "      <td>893</td>\n",
              "      <td>3</td>\n",
              "      <td>female</td>\n",
              "      <td>47.0</td>\n",
              "      <td>1</td>\n",
              "      <td>0</td>\n",
              "      <td>7.0000</td>\n",
              "      <td>S</td>\n",
              "    </tr>\n",
              "    <tr>\n",
              "      <th>2</th>\n",
              "      <td>894</td>\n",
              "      <td>2</td>\n",
              "      <td>male</td>\n",
              "      <td>62.0</td>\n",
              "      <td>0</td>\n",
              "      <td>0</td>\n",
              "      <td>9.6875</td>\n",
              "      <td>Q</td>\n",
              "    </tr>\n",
              "    <tr>\n",
              "      <th>3</th>\n",
              "      <td>895</td>\n",
              "      <td>3</td>\n",
              "      <td>male</td>\n",
              "      <td>27.0</td>\n",
              "      <td>0</td>\n",
              "      <td>0</td>\n",
              "      <td>8.6625</td>\n",
              "      <td>S</td>\n",
              "    </tr>\n",
              "    <tr>\n",
              "      <th>4</th>\n",
              "      <td>896</td>\n",
              "      <td>3</td>\n",
              "      <td>female</td>\n",
              "      <td>22.0</td>\n",
              "      <td>1</td>\n",
              "      <td>1</td>\n",
              "      <td>12.2875</td>\n",
              "      <td>S</td>\n",
              "    </tr>\n",
              "  </tbody>\n",
              "</table>\n",
              "</div>\n",
              "      <button class=\"colab-df-convert\" onclick=\"convertToInteractive('df-aa5d3049-7886-415d-9ac3-37537e346670')\"\n",
              "              title=\"Convert this dataframe to an interactive table.\"\n",
              "              style=\"display:none;\">\n",
              "        \n",
              "  <svg xmlns=\"http://www.w3.org/2000/svg\" height=\"24px\"viewBox=\"0 0 24 24\"\n",
              "       width=\"24px\">\n",
              "    <path d=\"M0 0h24v24H0V0z\" fill=\"none\"/>\n",
              "    <path d=\"M18.56 5.44l.94 2.06.94-2.06 2.06-.94-2.06-.94-.94-2.06-.94 2.06-2.06.94zm-11 1L8.5 8.5l.94-2.06 2.06-.94-2.06-.94L8.5 2.5l-.94 2.06-2.06.94zm10 10l.94 2.06.94-2.06 2.06-.94-2.06-.94-.94-2.06-.94 2.06-2.06.94z\"/><path d=\"M17.41 7.96l-1.37-1.37c-.4-.4-.92-.59-1.43-.59-.52 0-1.04.2-1.43.59L10.3 9.45l-7.72 7.72c-.78.78-.78 2.05 0 2.83L4 21.41c.39.39.9.59 1.41.59.51 0 1.02-.2 1.41-.59l7.78-7.78 2.81-2.81c.8-.78.8-2.07 0-2.86zM5.41 20L4 18.59l7.72-7.72 1.47 1.35L5.41 20z\"/>\n",
              "  </svg>\n",
              "      </button>\n",
              "      \n",
              "  <style>\n",
              "    .colab-df-container {\n",
              "      display:flex;\n",
              "      flex-wrap:wrap;\n",
              "      gap: 12px;\n",
              "    }\n",
              "\n",
              "    .colab-df-convert {\n",
              "      background-color: #E8F0FE;\n",
              "      border: none;\n",
              "      border-radius: 50%;\n",
              "      cursor: pointer;\n",
              "      display: none;\n",
              "      fill: #1967D2;\n",
              "      height: 32px;\n",
              "      padding: 0 0 0 0;\n",
              "      width: 32px;\n",
              "    }\n",
              "\n",
              "    .colab-df-convert:hover {\n",
              "      background-color: #E2EBFA;\n",
              "      box-shadow: 0px 1px 2px rgba(60, 64, 67, 0.3), 0px 1px 3px 1px rgba(60, 64, 67, 0.15);\n",
              "      fill: #174EA6;\n",
              "    }\n",
              "\n",
              "    [theme=dark] .colab-df-convert {\n",
              "      background-color: #3B4455;\n",
              "      fill: #D2E3FC;\n",
              "    }\n",
              "\n",
              "    [theme=dark] .colab-df-convert:hover {\n",
              "      background-color: #434B5C;\n",
              "      box-shadow: 0px 1px 3px 1px rgba(0, 0, 0, 0.15);\n",
              "      filter: drop-shadow(0px 1px 2px rgba(0, 0, 0, 0.3));\n",
              "      fill: #FFFFFF;\n",
              "    }\n",
              "  </style>\n",
              "\n",
              "      <script>\n",
              "        const buttonEl =\n",
              "          document.querySelector('#df-aa5d3049-7886-415d-9ac3-37537e346670 button.colab-df-convert');\n",
              "        buttonEl.style.display =\n",
              "          google.colab.kernel.accessAllowed ? 'block' : 'none';\n",
              "\n",
              "        async function convertToInteractive(key) {\n",
              "          const element = document.querySelector('#df-aa5d3049-7886-415d-9ac3-37537e346670');\n",
              "          const dataTable =\n",
              "            await google.colab.kernel.invokeFunction('convertToInteractive',\n",
              "                                                     [key], {});\n",
              "          if (!dataTable) return;\n",
              "\n",
              "          const docLinkHtml = 'Like what you see? Visit the ' +\n",
              "            '<a target=\"_blank\" href=https://colab.research.google.com/notebooks/data_table.ipynb>data table notebook</a>'\n",
              "            + ' to learn more about interactive tables.';\n",
              "          element.innerHTML = '';\n",
              "          dataTable['output_type'] = 'display_data';\n",
              "          await google.colab.output.renderOutput(dataTable, element);\n",
              "          const docLink = document.createElement('div');\n",
              "          docLink.innerHTML = docLinkHtml;\n",
              "          element.appendChild(docLink);\n",
              "        }\n",
              "      </script>\n",
              "    </div>\n",
              "  </div>\n",
              "  "
            ]
          },
          "metadata": {},
          "execution_count": 185
        }
      ]
    },
    {
      "cell_type": "code",
      "source": [
        "test = test.drop(columns = ['Name', 'Cabin', 'Ticket'])"
      ],
      "metadata": {
        "id": "8UwiDHM1b_-_"
      },
      "execution_count": null,
      "outputs": []
    },
    {
      "cell_type": "code",
      "source": [
        "test.info()"
      ],
      "metadata": {
        "colab": {
          "base_uri": "https://localhost:8080/"
        },
        "id": "dzHLbjIhb6Jz",
        "outputId": "c011ec47-06bc-4692-f344-ab63c48baf59"
      },
      "execution_count": null,
      "outputs": [
        {
          "output_type": "stream",
          "name": "stdout",
          "text": [
            "<class 'pandas.core.frame.DataFrame'>\n",
            "RangeIndex: 418 entries, 0 to 417\n",
            "Data columns (total 8 columns):\n",
            " #   Column       Non-Null Count  Dtype  \n",
            "---  ------       --------------  -----  \n",
            " 0   PassengerId  418 non-null    int64  \n",
            " 1   Pclass       418 non-null    int64  \n",
            " 2   Sex          418 non-null    object \n",
            " 3   Age          332 non-null    float64\n",
            " 4   SibSp        418 non-null    int64  \n",
            " 5   Parch        418 non-null    int64  \n",
            " 6   Fare         417 non-null    float64\n",
            " 7   Embarked     418 non-null    object \n",
            "dtypes: float64(2), int64(4), object(2)\n",
            "memory usage: 26.2+ KB\n"
          ]
        }
      ]
    },
    {
      "cell_type": "markdown",
      "source": [
        "## Dealing with missing values"
      ],
      "metadata": {
        "id": "eAlcRuPZcYYS"
      }
    },
    {
      "cell_type": "code",
      "source": [
        "imputer_age = SimpleImputer(missing_values = np.NaN, strategy = 'mean')\n",
        "test.Age = imputer_age.fit_transform(test['Age'].values.reshape(-1,1))"
      ],
      "metadata": {
        "id": "tZiTIsWUcWXL"
      },
      "execution_count": null,
      "outputs": []
    },
    {
      "cell_type": "code",
      "source": [
        "imputer_fare = SimpleImputer(missing_values = np.NaN, strategy = 'mean')\n",
        "test.Fare = imputer_fare.fit_transform(test['Fare'].values.reshape(-1,1))"
      ],
      "metadata": {
        "id": "rd3PJbjacnhw"
      },
      "execution_count": null,
      "outputs": []
    },
    {
      "cell_type": "code",
      "source": [
        "test.head()"
      ],
      "metadata": {
        "colab": {
          "base_uri": "https://localhost:8080/",
          "height": 206
        },
        "id": "OnPAZxGwh_TX",
        "outputId": "659d1c63-cfbd-46e7-b38f-3296b60388f0"
      },
      "execution_count": null,
      "outputs": [
        {
          "output_type": "execute_result",
          "data": {
            "text/plain": [
              "   PassengerId  Pclass     Sex   Age  SibSp  Parch     Fare Embarked\n",
              "0          892       3    male  34.5      0      0   7.8292        Q\n",
              "1          893       3  female  47.0      1      0   7.0000        S\n",
              "2          894       2    male  62.0      0      0   9.6875        Q\n",
              "3          895       3    male  27.0      0      0   8.6625        S\n",
              "4          896       3  female  22.0      1      1  12.2875        S"
            ],
            "text/html": [
              "\n",
              "  <div id=\"df-3f1d5a60-9dbb-4791-b399-33f2be576f7b\">\n",
              "    <div class=\"colab-df-container\">\n",
              "      <div>\n",
              "<style scoped>\n",
              "    .dataframe tbody tr th:only-of-type {\n",
              "        vertical-align: middle;\n",
              "    }\n",
              "\n",
              "    .dataframe tbody tr th {\n",
              "        vertical-align: top;\n",
              "    }\n",
              "\n",
              "    .dataframe thead th {\n",
              "        text-align: right;\n",
              "    }\n",
              "</style>\n",
              "<table border=\"1\" class=\"dataframe\">\n",
              "  <thead>\n",
              "    <tr style=\"text-align: right;\">\n",
              "      <th></th>\n",
              "      <th>PassengerId</th>\n",
              "      <th>Pclass</th>\n",
              "      <th>Sex</th>\n",
              "      <th>Age</th>\n",
              "      <th>SibSp</th>\n",
              "      <th>Parch</th>\n",
              "      <th>Fare</th>\n",
              "      <th>Embarked</th>\n",
              "    </tr>\n",
              "  </thead>\n",
              "  <tbody>\n",
              "    <tr>\n",
              "      <th>0</th>\n",
              "      <td>892</td>\n",
              "      <td>3</td>\n",
              "      <td>male</td>\n",
              "      <td>34.5</td>\n",
              "      <td>0</td>\n",
              "      <td>0</td>\n",
              "      <td>7.8292</td>\n",
              "      <td>Q</td>\n",
              "    </tr>\n",
              "    <tr>\n",
              "      <th>1</th>\n",
              "      <td>893</td>\n",
              "      <td>3</td>\n",
              "      <td>female</td>\n",
              "      <td>47.0</td>\n",
              "      <td>1</td>\n",
              "      <td>0</td>\n",
              "      <td>7.0000</td>\n",
              "      <td>S</td>\n",
              "    </tr>\n",
              "    <tr>\n",
              "      <th>2</th>\n",
              "      <td>894</td>\n",
              "      <td>2</td>\n",
              "      <td>male</td>\n",
              "      <td>62.0</td>\n",
              "      <td>0</td>\n",
              "      <td>0</td>\n",
              "      <td>9.6875</td>\n",
              "      <td>Q</td>\n",
              "    </tr>\n",
              "    <tr>\n",
              "      <th>3</th>\n",
              "      <td>895</td>\n",
              "      <td>3</td>\n",
              "      <td>male</td>\n",
              "      <td>27.0</td>\n",
              "      <td>0</td>\n",
              "      <td>0</td>\n",
              "      <td>8.6625</td>\n",
              "      <td>S</td>\n",
              "    </tr>\n",
              "    <tr>\n",
              "      <th>4</th>\n",
              "      <td>896</td>\n",
              "      <td>3</td>\n",
              "      <td>female</td>\n",
              "      <td>22.0</td>\n",
              "      <td>1</td>\n",
              "      <td>1</td>\n",
              "      <td>12.2875</td>\n",
              "      <td>S</td>\n",
              "    </tr>\n",
              "  </tbody>\n",
              "</table>\n",
              "</div>\n",
              "      <button class=\"colab-df-convert\" onclick=\"convertToInteractive('df-3f1d5a60-9dbb-4791-b399-33f2be576f7b')\"\n",
              "              title=\"Convert this dataframe to an interactive table.\"\n",
              "              style=\"display:none;\">\n",
              "        \n",
              "  <svg xmlns=\"http://www.w3.org/2000/svg\" height=\"24px\"viewBox=\"0 0 24 24\"\n",
              "       width=\"24px\">\n",
              "    <path d=\"M0 0h24v24H0V0z\" fill=\"none\"/>\n",
              "    <path d=\"M18.56 5.44l.94 2.06.94-2.06 2.06-.94-2.06-.94-.94-2.06-.94 2.06-2.06.94zm-11 1L8.5 8.5l.94-2.06 2.06-.94-2.06-.94L8.5 2.5l-.94 2.06-2.06.94zm10 10l.94 2.06.94-2.06 2.06-.94-2.06-.94-.94-2.06-.94 2.06-2.06.94z\"/><path d=\"M17.41 7.96l-1.37-1.37c-.4-.4-.92-.59-1.43-.59-.52 0-1.04.2-1.43.59L10.3 9.45l-7.72 7.72c-.78.78-.78 2.05 0 2.83L4 21.41c.39.39.9.59 1.41.59.51 0 1.02-.2 1.41-.59l7.78-7.78 2.81-2.81c.8-.78.8-2.07 0-2.86zM5.41 20L4 18.59l7.72-7.72 1.47 1.35L5.41 20z\"/>\n",
              "  </svg>\n",
              "      </button>\n",
              "      \n",
              "  <style>\n",
              "    .colab-df-container {\n",
              "      display:flex;\n",
              "      flex-wrap:wrap;\n",
              "      gap: 12px;\n",
              "    }\n",
              "\n",
              "    .colab-df-convert {\n",
              "      background-color: #E8F0FE;\n",
              "      border: none;\n",
              "      border-radius: 50%;\n",
              "      cursor: pointer;\n",
              "      display: none;\n",
              "      fill: #1967D2;\n",
              "      height: 32px;\n",
              "      padding: 0 0 0 0;\n",
              "      width: 32px;\n",
              "    }\n",
              "\n",
              "    .colab-df-convert:hover {\n",
              "      background-color: #E2EBFA;\n",
              "      box-shadow: 0px 1px 2px rgba(60, 64, 67, 0.3), 0px 1px 3px 1px rgba(60, 64, 67, 0.15);\n",
              "      fill: #174EA6;\n",
              "    }\n",
              "\n",
              "    [theme=dark] .colab-df-convert {\n",
              "      background-color: #3B4455;\n",
              "      fill: #D2E3FC;\n",
              "    }\n",
              "\n",
              "    [theme=dark] .colab-df-convert:hover {\n",
              "      background-color: #434B5C;\n",
              "      box-shadow: 0px 1px 3px 1px rgba(0, 0, 0, 0.15);\n",
              "      filter: drop-shadow(0px 1px 2px rgba(0, 0, 0, 0.3));\n",
              "      fill: #FFFFFF;\n",
              "    }\n",
              "  </style>\n",
              "\n",
              "      <script>\n",
              "        const buttonEl =\n",
              "          document.querySelector('#df-3f1d5a60-9dbb-4791-b399-33f2be576f7b button.colab-df-convert');\n",
              "        buttonEl.style.display =\n",
              "          google.colab.kernel.accessAllowed ? 'block' : 'none';\n",
              "\n",
              "        async function convertToInteractive(key) {\n",
              "          const element = document.querySelector('#df-3f1d5a60-9dbb-4791-b399-33f2be576f7b');\n",
              "          const dataTable =\n",
              "            await google.colab.kernel.invokeFunction('convertToInteractive',\n",
              "                                                     [key], {});\n",
              "          if (!dataTable) return;\n",
              "\n",
              "          const docLinkHtml = 'Like what you see? Visit the ' +\n",
              "            '<a target=\"_blank\" href=https://colab.research.google.com/notebooks/data_table.ipynb>data table notebook</a>'\n",
              "            + ' to learn more about interactive tables.';\n",
              "          element.innerHTML = '';\n",
              "          dataTable['output_type'] = 'display_data';\n",
              "          await google.colab.output.renderOutput(dataTable, element);\n",
              "          const docLink = document.createElement('div');\n",
              "          docLink.innerHTML = docLinkHtml;\n",
              "          element.appendChild(docLink);\n",
              "        }\n",
              "      </script>\n",
              "    </div>\n",
              "  </div>\n",
              "  "
            ]
          },
          "metadata": {},
          "execution_count": 195
        }
      ]
    },
    {
      "cell_type": "code",
      "source": [
        "PassengerId = test.PassengerId.to_frame()"
      ],
      "metadata": {
        "id": "ccgqVcMopsIB"
      },
      "execution_count": null,
      "outputs": []
    },
    {
      "cell_type": "code",
      "source": [
        "test2 = test.copy()"
      ],
      "metadata": {
        "id": "zmJPUM6wAfjn"
      },
      "execution_count": null,
      "outputs": []
    },
    {
      "cell_type": "code",
      "source": [
        "test = test.to_numpy()"
      ],
      "metadata": {
        "id": "llaG3B3gAoL-"
      },
      "execution_count": null,
      "outputs": []
    },
    {
      "cell_type": "markdown",
      "source": [
        "## Encoding Categorical"
      ],
      "metadata": {
        "id": "uE3svwEMhw_L"
      }
    },
    {
      "cell_type": "code",
      "source": [
        "le = LabelEncoder()\n",
        "test[:, 2] = le.fit_transform(test[:, 2])\n",
        "print(test)"
      ],
      "metadata": {
        "id": "ElvzlA7lh5RN"
      },
      "execution_count": null,
      "outputs": []
    },
    {
      "cell_type": "code",
      "source": [
        "from sklearn.compose import ColumnTransformer\n",
        "from sklearn.preprocessing import OneHotEncoder\n",
        "ct = ColumnTransformer(transformers = [('encoder', OneHotEncoder(sparse_output = False, drop = 'first'), [-1])], remainder = 'passthrough')"
      ],
      "metadata": {
        "id": "0qxiTejCjD_j"
      },
      "execution_count": null,
      "outputs": []
    },
    {
      "cell_type": "code",
      "source": [
        "transformed_test = ct.fit_transform(test)"
      ],
      "metadata": {
        "id": "05voKTgsjNcN"
      },
      "execution_count": null,
      "outputs": []
    },
    {
      "cell_type": "markdown",
      "source": [
        "## Feature Scaling"
      ],
      "metadata": {
        "id": "sFlhVumYh2XU"
      }
    },
    {
      "cell_type": "code",
      "source": [
        "from sklearn.preprocessing import StandardScaler\n",
        "sc = StandardScaler()\n",
        "\n",
        "transformed_test[:, -1:] = sc.fit_transform(transformed_test[:, -1:]) #fit - compute mean and standard deviation of all the values\n",
        "                          #transform - apply the formula to all the values\n",
        "transformed_test[:, -1:] = sc.transform(transformed_test[:, -1:]) # no need to fit the training set"
      ],
      "metadata": {
        "id": "fSIHGiQihyeN"
      },
      "execution_count": null,
      "outputs": []
    },
    {
      "cell_type": "code",
      "source": [
        "from sklearn.preprocessing import StandardScaler\n",
        "sc2 = StandardScaler()\n",
        "\n",
        "transformed_test[:, -4:-3] = sc2.fit_transform(transformed_test[:, -4:-3]) #fit - compute mean and standard deviation of all the values\n",
        "                          #transform - apply the formula to all the values\n",
        "transformed_test[:, -4:-3] = sc2.transform(transformed_test[:, -4:-3]) # no need to fit the training set"
      ],
      "metadata": {
        "id": "AbM0W8wuojoB"
      },
      "execution_count": null,
      "outputs": []
    },
    {
      "cell_type": "code",
      "source": [
        "print(transformed_test)"
      ],
      "metadata": {
        "id": "Fum9iIvVCNc-"
      },
      "execution_count": null,
      "outputs": []
    },
    {
      "cell_type": "code",
      "source": [
        "np.delete(transformed_test, [2], 1)"
      ],
      "metadata": {
        "colab": {
          "base_uri": "https://localhost:8080/"
        },
        "id": "HPJXbkv6Cttd",
        "outputId": "86de0c73-7b5a-44ac-a824-145c2efb91e4"
      },
      "execution_count": null,
      "outputs": [
        {
          "output_type": "execute_result",
          "data": {
            "text/plain": [
              "(418, 8)"
            ]
          },
          "metadata": {},
          "execution_count": 223
        }
      ]
    },
    {
      "cell_type": "markdown",
      "source": [
        "## Predictions"
      ],
      "metadata": {
        "id": "odDBeUsmB5Dw"
      }
    },
    {
      "cell_type": "code",
      "source": [
        "test_pred = kernel_svm_classifier.predict(np.delete(transformed_test, [2], 1))\n",
        "print(test_pred.reshape(-1,1))"
      ],
      "metadata": {
        "id": "6i5Dl7lxolzc"
      },
      "execution_count": null,
      "outputs": []
    },
    {
      "cell_type": "code",
      "source": [
        "ans_array = np.concatenate((PassengerId.values.reshape(len(PassengerId.values),1), test_pred.reshape(len(test_pred),1)),1)\n"
      ],
      "metadata": {
        "id": "WHIaD7cDFHRs"
      },
      "execution_count": null,
      "outputs": []
    },
    {
      "cell_type": "code",
      "source": [
        "ans = pd.DataFrame(ans_array, columns = ['PassengerId','Survived'])\n",
        "type(ans)"
      ],
      "metadata": {
        "colab": {
          "base_uri": "https://localhost:8080/"
        },
        "id": "k9lpvMFACGNq",
        "outputId": "77216b1e-6362-4557-8dbc-abd60f86111a"
      },
      "execution_count": null,
      "outputs": [
        {
          "output_type": "execute_result",
          "data": {
            "text/plain": [
              "pandas.core.frame.DataFrame"
            ]
          },
          "metadata": {},
          "execution_count": 229
        }
      ]
    },
    {
      "cell_type": "code",
      "source": [
        "ans.to_csv('submission.csv', index=False)"
      ],
      "metadata": {
        "id": "FkaBZGN-GTCm"
      },
      "execution_count": null,
      "outputs": []
    },
    {
      "cell_type": "code",
      "source": [],
      "metadata": {
        "id": "SrGm8pdAGhiJ"
      },
      "execution_count": null,
      "outputs": []
    }
  ]
}